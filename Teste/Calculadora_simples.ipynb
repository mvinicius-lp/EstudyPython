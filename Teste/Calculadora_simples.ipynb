{
 "cells": [
  {
   "cell_type": "markdown",
   "id": "26d3defe",
   "metadata": {},
   "source": [
    "Faça uma calçculadora simples"
   ]
  },
  {
   "cell_type": "markdown",
   "id": "118fe36a",
   "metadata": {},
   "source": [
    "---Pseudocódigo---\n",
    "\n",
    "// Definir variáveis\n",
    "variável num1, num2, resultado\n",
    "variável operador\n",
    "\n",
    "// Obter os valores dos números e o operador\n",
    "ler(num1)\n",
    "ler(operador)\n",
    "ler(num2)\n",
    "\n",
    "// Realizar a operação com base no operador fornecido\n",
    "se operador for igual a '+':\n",
    "    resultado = num1 + num2\n",
    "senão, se operador for igual a '-':\n",
    "    resultado = num1 - num2\n",
    "senão, se operador for igual a '*':\n",
    "    resultado = num1 * num2\n",
    "senão, se operador for igual a '/':\n",
    "    // Verificar divisão por zero\n",
    "    se num2 for igual a 0:\n",
    "        exibir(\"Erro: Divisão por zero não é permitida\")\n",
    "    senão:\n",
    "        resultado = num1 / num2\n",
    "senão:\n",
    "    exibir(\"Operador inválido\")\n",
    "\n",
    "// Exibir o resultado\n",
    "exibir(\"Resultado: \" + resultado)"
   ]
  },
  {
   "cell_type": "code",
   "execution_count": 20,
   "id": "08126bf8",
   "metadata": {},
   "outputs": [
    {
     "name": "stdout",
     "output_type": "stream",
     "text": [
      "insira um valor: 10\n",
      "Digite a operação: 10\n",
      "insira o segundo valor: 10\n",
      "Erro: operação inválida\n"
     ]
    }
   ],
   "source": [
    "num1 = float(input(\"insira um valor: \"))\n",
    "operador = input(\"Digite a operação: \")\n",
    "num2 = float(input(\"insira o segundo valor: \"))\n",
    "\n",
    "if operador == '+':\n",
    "    resultado = num1 + num2\n",
    "    print(\"Resultado: \", + resultado)\n",
    "elif operador == '-':\n",
    "    resultado = num1 - num2\n",
    "    print(\"Resultado: \", + resultado)\n",
    "elif operador == '*':\n",
    "    resultado = num1 * num2\n",
    "    print(\"Resultado: \", + resultado)\n",
    "elif operador == '/':\n",
    "    if num2 == 0:\n",
    "        print(\"Erro: divisão por zero não é permitida\")\n",
    "    else:\n",
    "        resultado = num1 / num2\n",
    "        print(\"Resultado: \", + resultado)\n",
    "else:\n",
    "    print(\"Erro: operação inválida\")"
   ]
  }
 ],
 "metadata": {
  "kernelspec": {
   "display_name": "Python 3 (ipykernel)",
   "language": "python",
   "name": "python3"
  },
  "language_info": {
   "codemirror_mode": {
    "name": "ipython",
    "version": 3
   },
   "file_extension": ".py",
   "mimetype": "text/x-python",
   "name": "python",
   "nbconvert_exporter": "python",
   "pygments_lexer": "ipython3",
   "version": "3.9.13"
  }
 },
 "nbformat": 4,
 "nbformat_minor": 5
}
