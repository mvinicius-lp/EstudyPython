{
 "cells": [
  {
   "cell_type": "markdown",
   "id": "61242a93",
   "metadata": {},
   "source": [
    "Crie uma lista com os números entre 1 e 100 e então imprima os números pares, mas somente se o número for divisivel por 4. "
   ]
  },
  {
   "cell_type": "code",
   "execution_count": 3,
   "id": "d4fc563a",
   "metadata": {},
   "outputs": [
    {
     "name": "stdout",
     "output_type": "stream",
     "text": [
      "4\n",
      "8\n",
      "12\n",
      "16\n",
      "20\n",
      "24\n",
      "28\n",
      "32\n",
      "36\n",
      "40\n",
      "44\n",
      "48\n",
      "52\n",
      "56\n",
      "60\n",
      "64\n",
      "68\n",
      "72\n",
      "76\n",
      "80\n",
      "84\n",
      "88\n",
      "92\n",
      "96\n",
      "100\n"
     ]
    }
   ],
   "source": [
    "numeros = list(range(1, 101))\n",
    "\n",
    "for numero in numeros:\n",
    "        if numero % 2 == 0 and numero % 4 == 0:\n",
    "            print(numero)"
   ]
  },
  {
   "cell_type": "code",
   "execution_count": 5,
   "id": "4e000353",
   "metadata": {},
   "outputs": [
    {
     "data": {
      "text/plain": [
       "list"
      ]
     },
     "execution_count": 5,
     "metadata": {},
     "output_type": "execute_result"
    }
   ],
   "source": [
    "type(numeros)"
   ]
  },
  {
   "cell_type": "markdown",
   "id": "2b731686",
   "metadata": {},
   "source": [
    "Crie uma lista com os números entre 1 e 100 e então imprima os números pares, mas somente se o número for divisivel por 4 com list comprehension."
   ]
  },
  {
   "cell_type": "code",
   "execution_count": 6,
   "id": "4dcd35fd",
   "metadata": {},
   "outputs": [
    {
     "name": "stdout",
     "output_type": "stream",
     "text": [
      "[4, 8, 12, 16, 20, 24, 28, 32, 36, 40, 44, 48, 52, 56, 60, 64, 68, 72, 76, 80, 84, 88, 92, 96, 100]\n"
     ]
    }
   ],
   "source": [
    "numeros = list(range(1, 101))\n",
    "\n",
    "pares_div4 = [numero for numero in numeros if numero % 2 == 0 and numero % 4 == 0]\n",
    "\n",
    "print(pares_div4)"
   ]
  },
  {
   "cell_type": "code",
   "execution_count": null,
   "id": "4011f701",
   "metadata": {},
   "outputs": [],
   "source": []
  }
 ],
 "metadata": {
  "kernelspec": {
   "display_name": "Python 3 (ipykernel)",
   "language": "python",
   "name": "python3"
  },
  "language_info": {
   "codemirror_mode": {
    "name": "ipython",
    "version": 3
   },
   "file_extension": ".py",
   "mimetype": "text/x-python",
   "name": "python",
   "nbconvert_exporter": "python",
   "pygments_lexer": "ipython3",
   "version": "3.9.13"
  }
 },
 "nbformat": 4,
 "nbformat_minor": 5
}
