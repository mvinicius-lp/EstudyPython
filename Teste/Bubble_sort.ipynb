{
 "cells": [
  {
   "cell_type": "markdown",
   "id": "8ca96ea2",
   "metadata": {},
   "source": [
    "---Pseudocódigo---\n",
    "\n",
    "#Definir uma função BubbleSort que recebe um array como parâmetro\n",
    "função BubbleSort(array):\n",
    "    # Obter o comprimento do array\n",
    "    comprimento = tamanho(array)\n",
    "\n",
    "    # Loop externo para percorrer todo o array\n",
    "    para i de 0 até comprimento - 1:\n",
    "        # Loop interno para comparar e trocar elementos adjacentes\n",
    "        para j de 0 até comprimento - 1 - i:\n",
    "            # Comparar elementos adjacentes\n",
    "            se array[j] > array[j+1] então:\n",
    "                # Trocar elementos\n",
    "                temp = array[j]\n",
    "                array[j] = array[j+1]\n",
    "                array[j+1] = temp\n",
    "\n",
    "#Exemplo de uso do BubbleSort\n",
    "#Definir um array de números desordenados\n",
    "array = [5, 3, 8, 2, 1, 4]\n",
    "\n",
    "#Chamar a função BubbleSort passando o array como parâmetro\n",
    "BubbleSort(array)\n",
    "\n",
    "#Exibir o array ordenado\n",
    "exibir(\"Array ordenado:\", array)"
   ]
  },
  {
   "cell_type": "code",
   "execution_count": 5,
   "id": "8c5534ce",
   "metadata": {},
   "outputs": [],
   "source": [
    "lista = [6, 7, 8, 3, 10, 19, 4, 1, 0, 61, 30, 16, 17, 82, 29, 24, 43, 21, 11, 39, 56, 67, 12]"
   ]
  },
  {
   "cell_type": "code",
   "execution_count": 6,
   "id": "a872985a",
   "metadata": {},
   "outputs": [],
   "source": [
    "def bubble_sort(arr):\n",
    "    n = len(arr)\n",
    "    # para cada elementoo i do array\n",
    "    for i in range(n):\n",
    "        # para cada elementoo j do array\n",
    "        for j in range(0, n-i-1):\n",
    "            # se o elemento i > j\n",
    "            if arr[j] > arr[j+1]:\n",
    "                #troque os elementos\n",
    "                arr[j], arr[j+1] = arr[j+1], arr[j]\n",
    "    return arr"
   ]
  },
  {
   "cell_type": "code",
   "execution_count": 7,
   "id": "99bc9c60",
   "metadata": {},
   "outputs": [
    {
     "name": "stdout",
     "output_type": "stream",
     "text": [
      "[0, 1, 3, 4, 6, 7, 8, 10, 11, 12, 16, 17, 19, 21, 24, 29, 30, 39, 43, 56, 61, 67, 82]\n"
     ]
    }
   ],
   "source": [
    "print(bubble_sort(lista))"
   ]
  },
  {
   "cell_type": "code",
   "execution_count": null,
   "id": "97912de6",
   "metadata": {},
   "outputs": [],
   "source": []
  }
 ],
 "metadata": {
  "kernelspec": {
   "display_name": "Python 3 (ipykernel)",
   "language": "python",
   "name": "python3"
  },
  "language_info": {
   "codemirror_mode": {
    "name": "ipython",
    "version": 3
   },
   "file_extension": ".py",
   "mimetype": "text/x-python",
   "name": "python",
   "nbconvert_exporter": "python",
   "pygments_lexer": "ipython3",
   "version": "3.9.13"
  }
 },
 "nbformat": 4,
 "nbformat_minor": 5
}
