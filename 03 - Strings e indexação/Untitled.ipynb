{
 "cells": [
  {
   "cell_type": "markdown",
   "id": "aeb3430b",
   "metadata": {},
   "source": [
    "# Strings e Indexação"
   ]
  },
  {
   "cell_type": "code",
   "execution_count": 1,
   "id": "8fcfbd7f",
   "metadata": {},
   "outputs": [
    {
     "data": {
      "text/plain": [
       "'oi'"
      ]
     },
     "execution_count": 1,
     "metadata": {},
     "output_type": "execute_result"
    }
   ],
   "source": [
    "'oi'"
   ]
  },
  {
   "cell_type": "code",
   "execution_count": 2,
   "id": "acc1bc4a",
   "metadata": {},
   "outputs": [
    {
     "data": {
      "text/plain": [
       "'criando uma frase em python'"
      ]
     },
     "execution_count": 2,
     "metadata": {},
     "output_type": "execute_result"
    }
   ],
   "source": [
    "'criando uma frase em python'"
   ]
  },
  {
   "cell_type": "markdown",
   "id": "4930543b",
   "metadata": {},
   "source": [
    "### Imprimindo strings"
   ]
  },
  {
   "cell_type": "code",
   "execution_count": 3,
   "id": "2b09542a",
   "metadata": {},
   "outputs": [
    {
     "name": "stdout",
     "output_type": "stream",
     "text": [
      "Testando strings em python\n"
     ]
    }
   ],
   "source": [
    "print('Testando strings em python')"
   ]
  },
  {
   "cell_type": "code",
   "execution_count": 4,
   "id": "2facc7de",
   "metadata": {},
   "outputs": [],
   "source": [
    "a = 'testando!'"
   ]
  },
  {
   "cell_type": "code",
   "execution_count": 5,
   "id": "7252f52f",
   "metadata": {},
   "outputs": [
    {
     "name": "stdout",
     "output_type": "stream",
     "text": [
      "testando!\n"
     ]
    }
   ],
   "source": [
    "print(a)"
   ]
  },
  {
   "cell_type": "code",
   "execution_count": 7,
   "id": "b08b6323",
   "metadata": {},
   "outputs": [
    {
     "name": "stdout",
     "output_type": "stream",
     "text": [
      "\n",
      "\n"
     ]
    }
   ],
   "source": [
    "# quebra de linha\n",
    "print('\\n')"
   ]
  },
  {
   "cell_type": "markdown",
   "id": "1dc51fdc",
   "metadata": {},
   "source": [
    "### indexando strings"
   ]
  },
  {
   "cell_type": "code",
   "execution_count": 8,
   "id": "fb45f302",
   "metadata": {},
   "outputs": [],
   "source": [
    "a = 'cursando python'"
   ]
  },
  {
   "cell_type": "code",
   "execution_count": 9,
   "id": "532c3e1f",
   "metadata": {},
   "outputs": [
    {
     "name": "stdout",
     "output_type": "stream",
     "text": [
      "cursando python\n"
     ]
    }
   ],
   "source": [
    "print(a)"
   ]
  },
  {
   "cell_type": "code",
   "execution_count": 10,
   "id": "2b4098de",
   "metadata": {},
   "outputs": [
    {
     "data": {
      "text/plain": [
       "'c'"
      ]
     },
     "execution_count": 10,
     "metadata": {},
     "output_type": "execute_result"
    }
   ],
   "source": [
    "a[0]"
   ]
  },
  {
   "cell_type": "code",
   "execution_count": 11,
   "id": "e5ab5e91",
   "metadata": {},
   "outputs": [
    {
     "data": {
      "text/plain": [
       "'u'"
      ]
     },
     "execution_count": 11,
     "metadata": {},
     "output_type": "execute_result"
    }
   ],
   "source": [
    "a[1]"
   ]
  },
  {
   "cell_type": "code",
   "execution_count": 12,
   "id": "6a21003a",
   "metadata": {},
   "outputs": [
    {
     "data": {
      "text/plain": [
       "'r'"
      ]
     },
     "execution_count": 12,
     "metadata": {},
     "output_type": "execute_result"
    }
   ],
   "source": [
    "a[2]"
   ]
  },
  {
   "cell_type": "code",
   "execution_count": 13,
   "id": "bdc73c1c",
   "metadata": {},
   "outputs": [
    {
     "data": {
      "text/plain": [
       "'s'"
      ]
     },
     "execution_count": 13,
     "metadata": {},
     "output_type": "execute_result"
    }
   ],
   "source": [
    "a[3]"
   ]
  },
  {
   "cell_type": "code",
   "execution_count": 14,
   "id": "796aae5f",
   "metadata": {},
   "outputs": [
    {
     "data": {
      "text/plain": [
       "'ursando python'"
      ]
     },
     "execution_count": 14,
     "metadata": {},
     "output_type": "execute_result"
    }
   ],
   "source": [
    "#retorna todos os elementos da string, começando pela posição\n",
    "#até o finda string\n",
    "a[1:]"
   ]
  },
  {
   "cell_type": "code",
   "execution_count": 16,
   "id": "c39a6449",
   "metadata": {},
   "outputs": [
    {
     "data": {
      "text/plain": [
       "'cursando python'"
      ]
     },
     "execution_count": 16,
     "metadata": {},
     "output_type": "execute_result"
    }
   ],
   "source": [
    "# a string permane inalterada\n",
    "a[0:]"
   ]
  },
  {
   "cell_type": "code",
   "execution_count": 18,
   "id": "52e6ba16",
   "metadata": {},
   "outputs": [
    {
     "data": {
      "text/plain": [
       "'cursando'"
      ]
     },
     "execution_count": 18,
     "metadata": {},
     "output_type": "execute_result"
    }
   ],
   "source": [
    "#retorna tdo até a posição\n",
    "a[:8]"
   ]
  },
  {
   "cell_type": "code",
   "execution_count": 19,
   "id": "ed13762c",
   "metadata": {},
   "outputs": [
    {
     "data": {
      "text/plain": [
       "'n'"
      ]
     },
     "execution_count": 19,
     "metadata": {},
     "output_type": "execute_result"
    }
   ],
   "source": [
    "#ler de trás para frente\n",
    "a[-1]"
   ]
  },
  {
   "cell_type": "code",
   "execution_count": 20,
   "id": "ebde77d5",
   "metadata": {},
   "outputs": [
    {
     "data": {
      "text/plain": [
       "'cursando pytho'"
      ]
     },
     "execution_count": 20,
     "metadata": {},
     "output_type": "execute_result"
    }
   ],
   "source": [
    "#retorna tudo execeto a última letra\n",
    "a[:-1]"
   ]
  },
  {
   "cell_type": "code",
   "execution_count": 21,
   "id": "38dfe0e9",
   "metadata": {},
   "outputs": [
    {
     "data": {
      "text/plain": [
       "'cursando python'"
      ]
     },
     "execution_count": 21,
     "metadata": {},
     "output_type": "execute_result"
    }
   ],
   "source": [
    "#fatiar em pedaços especifícos\n",
    "a[::1]"
   ]
  },
  {
   "cell_type": "code",
   "execution_count": 22,
   "id": "23ffaaeb",
   "metadata": {},
   "outputs": [
    {
     "data": {
      "text/plain": [
       "'crad yhn'"
      ]
     },
     "execution_count": 22,
     "metadata": {},
     "output_type": "execute_result"
    }
   ],
   "source": [
    "a[::2]"
   ]
  },
  {
   "cell_type": "markdown",
   "id": "c8f1c463",
   "metadata": {},
   "source": [
    "### Propieade de string"
   ]
  },
  {
   "cell_type": "code",
   "execution_count": 23,
   "id": "5ad33cc7",
   "metadata": {},
   "outputs": [
    {
     "ename": "NameError",
     "evalue": "name 'x' is not defined",
     "output_type": "error",
     "traceback": [
      "\u001b[0;31m---------------------------------------------------------------------------\u001b[0m",
      "\u001b[0;31mNameError\u001b[0m                                 Traceback (most recent call last)",
      "\u001b[0;32m/tmp/ipykernel_16395/3923155275.py\u001b[0m in \u001b[0;36m<module>\u001b[0;34m\u001b[0m\n\u001b[0;32m----> 1\u001b[0;31m \u001b[0ma\u001b[0m\u001b[0;34m[\u001b[0m\u001b[0;36m0\u001b[0m\u001b[0;34m]\u001b[0m \u001b[0;34m=\u001b[0m \u001b[0mx\u001b[0m\u001b[0;34m\u001b[0m\u001b[0;34m\u001b[0m\u001b[0m\n\u001b[0m",
      "\u001b[0;31mNameError\u001b[0m: name 'x' is not defined"
     ]
    }
   ],
   "source": [
    "#alterando um caractere (não é possível alterar um elemento de string)\n",
    "a[0] = x"
   ]
  },
  {
   "cell_type": "code",
   "execution_count": 25,
   "id": "e075b22d",
   "metadata": {},
   "outputs": [
    {
     "data": {
      "text/plain": [
       "'cursando python na DSA'"
      ]
     },
     "execution_count": 25,
     "metadata": {},
     "output_type": "execute_result"
    }
   ],
   "source": [
    "#caoncatenando strings\n",
    "a + ' na DSA'"
   ]
  },
  {
   "cell_type": "code",
   "execution_count": 26,
   "id": "80377a20",
   "metadata": {},
   "outputs": [],
   "source": [
    "letra = 'w'"
   ]
  },
  {
   "cell_type": "code",
   "execution_count": 27,
   "id": "f384b1a0",
   "metadata": {},
   "outputs": [
    {
     "data": {
      "text/plain": [
       "'www'"
      ]
     },
     "execution_count": 27,
     "metadata": {},
     "output_type": "execute_result"
    }
   ],
   "source": [
    "letra * 3"
   ]
  },
  {
   "cell_type": "code",
   "execution_count": 28,
   "id": "4dc39aba",
   "metadata": {},
   "outputs": [
    {
     "data": {
      "text/plain": [
       "'cursando python'"
      ]
     },
     "execution_count": 28,
     "metadata": {},
     "output_type": "execute_result"
    }
   ],
   "source": [
    "a"
   ]
  },
  {
   "cell_type": "code",
   "execution_count": 29,
   "id": "1f6076a0",
   "metadata": {},
   "outputs": [
    {
     "data": {
      "text/plain": [
       "'CURSANDO PYTHON'"
      ]
     },
     "execution_count": 29,
     "metadata": {},
     "output_type": "execute_result"
    }
   ],
   "source": [
    "#upper Case\n",
    "a.upper()"
   ]
  },
  {
   "cell_type": "code",
   "execution_count": 30,
   "id": "d40c06fc",
   "metadata": {},
   "outputs": [
    {
     "data": {
      "text/plain": [
       "'cursando python'"
      ]
     },
     "execution_count": 30,
     "metadata": {},
     "output_type": "execute_result"
    }
   ],
   "source": [
    "#lower case\n",
    "a.lower()"
   ]
  },
  {
   "cell_type": "code",
   "execution_count": 31,
   "id": "086fdd4b",
   "metadata": {},
   "outputs": [
    {
     "data": {
      "text/plain": [
       "['cursando', 'python']"
      ]
     },
     "execution_count": 31,
     "metadata": {},
     "output_type": "execute_result"
    }
   ],
   "source": [
    "a.split()"
   ]
  },
  {
   "cell_type": "code",
   "execution_count": 32,
   "id": "b69674c7",
   "metadata": {},
   "outputs": [
    {
     "data": {
      "text/plain": [
       "['cursando p', 'thon']"
      ]
     },
     "execution_count": 32,
     "metadata": {},
     "output_type": "execute_result"
    }
   ],
   "source": [
    "a.split('y')"
   ]
  },
  {
   "cell_type": "markdown",
   "id": "f9435599",
   "metadata": {},
   "source": [
    "###  funções string"
   ]
  },
  {
   "cell_type": "code",
   "execution_count": 33,
   "id": "75ba0e29",
   "metadata": {},
   "outputs": [
    {
     "data": {
      "text/plain": [
       "'Cursando python'"
      ]
     },
     "execution_count": 33,
     "metadata": {},
     "output_type": "execute_result"
    }
   ],
   "source": [
    "a.capitalize()"
   ]
  },
  {
   "cell_type": "code",
   "execution_count": 35,
   "id": "f204a25b",
   "metadata": {},
   "outputs": [
    {
     "data": {
      "text/plain": [
       "1"
      ]
     },
     "execution_count": 35,
     "metadata": {},
     "output_type": "execute_result"
    }
   ],
   "source": [
    "a.count('a')"
   ]
  },
  {
   "cell_type": "code",
   "execution_count": 36,
   "id": "aa65bed1",
   "metadata": {},
   "outputs": [
    {
     "data": {
      "text/plain": [
       "False"
      ]
     },
     "execution_count": 36,
     "metadata": {},
     "output_type": "execute_result"
    }
   ],
   "source": [
    "a.isalnum()"
   ]
  },
  {
   "cell_type": "code",
   "execution_count": 38,
   "id": "05fcc85e",
   "metadata": {},
   "outputs": [
    {
     "data": {
      "text/plain": [
       "True"
      ]
     },
     "execution_count": 38,
     "metadata": {},
     "output_type": "execute_result"
    }
   ],
   "source": [
    "a.islower()"
   ]
  },
  {
   "cell_type": "code",
   "execution_count": 39,
   "id": "1e4e9e5e",
   "metadata": {},
   "outputs": [
    {
     "data": {
      "text/plain": [
       "False"
      ]
     },
     "execution_count": 39,
     "metadata": {},
     "output_type": "execute_result"
    }
   ],
   "source": [
    "a.isspace()"
   ]
  },
  {
   "cell_type": "code",
   "execution_count": 40,
   "id": "5620815e",
   "metadata": {},
   "outputs": [
    {
     "data": {
      "text/plain": [
       "False"
      ]
     },
     "execution_count": 40,
     "metadata": {},
     "output_type": "execute_result"
    }
   ],
   "source": [
    "a.endswith('o')"
   ]
  },
  {
   "cell_type": "markdown",
   "id": "98ac450c",
   "metadata": {},
   "source": [
    "### Comparando strings"
   ]
  },
  {
   "cell_type": "code",
   "execution_count": 41,
   "id": "fad4ee8e",
   "metadata": {},
   "outputs": [
    {
     "name": "stdout",
     "output_type": "stream",
     "text": [
      "False\n"
     ]
    }
   ],
   "source": [
    "print(\"Python\" == \"R\")"
   ]
  },
  {
   "cell_type": "code",
   "execution_count": 42,
   "id": "bb2e143f",
   "metadata": {},
   "outputs": [
    {
     "name": "stdout",
     "output_type": "stream",
     "text": [
      "True\n"
     ]
    }
   ],
   "source": [
    "print(\"Python\" == \"Python\")"
   ]
  }
 ],
 "metadata": {
  "kernelspec": {
   "display_name": "Python 3 (ipykernel)",
   "language": "python",
   "name": "python3"
  },
  "language_info": {
   "codemirror_mode": {
    "name": "ipython",
    "version": 3
   },
   "file_extension": ".py",
   "mimetype": "text/x-python",
   "name": "python",
   "nbconvert_exporter": "python",
   "pygments_lexer": "ipython3",
   "version": "3.9.13"
  }
 },
 "nbformat": 4,
 "nbformat_minor": 5
}
