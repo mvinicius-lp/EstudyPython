{
 "cells": [
  {
   "cell_type": "markdown",
   "id": "8fa93b0b",
   "metadata": {},
   "source": [
    "# Operadores Lógicos"
   ]
  },
  {
   "cell_type": "code",
   "execution_count": 1,
   "id": "44cf9aad",
   "metadata": {},
   "outputs": [
    {
     "name": "stdout",
     "output_type": "stream",
     "text": [
      "autorizado\n"
     ]
    }
   ],
   "source": [
    "idade = 18\n",
    "nome = \"Bob\"\n",
    "if idade >= 17 and nome == \"Bob\":\n",
    "    print(\"autorizado\")\n"
   ]
  },
  {
   "cell_type": "code",
   "execution_count": 2,
   "id": "6fb9682a",
   "metadata": {},
   "outputs": [
    {
     "name": "stdout",
     "output_type": "stream",
     "text": [
      "autorizado\n"
     ]
    }
   ],
   "source": [
    "idade = 15\n",
    "nome = \"Bob\"\n",
    "if idade >= 17 or nome == \"Bob\":\n",
    "    print(\"autorizado\")\n"
   ]
  },
  {
   "cell_type": "code",
   "execution_count": 5,
   "id": "d36d1356",
   "metadata": {},
   "outputs": [
    {
     "name": "stdout",
     "output_type": "stream",
     "text": [
      "as duas condicoes sao verdadeiras\n"
     ]
    }
   ],
   "source": [
    "numero = 4\n",
    "if not(numero > 5) and (numero % 2 == 0):\n",
    "    print(\"as duas condicoes sao verdadeiras\")\n",
    "else:\n",
    "    print(\"umas das duas é falsa\")"
   ]
  },
  {
   "cell_type": "code",
   "execution_count": 6,
   "id": "f7fb6fe8",
   "metadata": {},
   "outputs": [
    {
     "name": "stdout",
     "output_type": "stream",
     "text": [
      "aprovado\n"
     ]
    }
   ],
   "source": [
    "disciplina = \"data science\"\n",
    "media = 7.0\n",
    "if disciplina == \"data science\" and media >= 7.0:\n",
    "    print(\"aprovado\")\n",
    "else:\n",
    "    print(\"reprovado\")"
   ]
  },
  {
   "cell_type": "code",
   "execution_count": 7,
   "id": "8c1ae4e5",
   "metadata": {},
   "outputs": [
    {
     "name": "stdout",
     "output_type": "stream",
     "text": [
      "reprovado\n"
     ]
    }
   ],
   "source": [
    "disciplina = \"data science\"\n",
    "media = 6.0\n",
    "if disciplina == \"data science\" and media >= 7.0:\n",
    "    print(\"aprovado\")\n",
    "else:\n",
    "    print(\"reprovado\")"
   ]
  },
  {
   "cell_type": "code",
   "execution_count": 9,
   "id": "7c372c76",
   "metadata": {},
   "outputs": [
    {
     "name": "stdout",
     "output_type": "stream",
     "text": [
      "voce foi aprovado em data science com media final igual a 7.0\n"
     ]
    }
   ],
   "source": [
    "disciplina = \"data science\"\n",
    "media = 7.0\n",
    "semestre = 2\n",
    "if disciplina == \"data science\" and media >= 7.0 and semestre != 1:\n",
    "    print(\"voce foi aprovado em %s com media final igual a %r\" %(disciplina, media))\n",
    "else:\n",
    "    print(\"reprovado\")"
   ]
  }
 ],
 "metadata": {
  "kernelspec": {
   "display_name": "Python 3 (ipykernel)",
   "language": "python",
   "name": "python3"
  },
  "language_info": {
   "codemirror_mode": {
    "name": "ipython",
    "version": 3
   },
   "file_extension": ".py",
   "mimetype": "text/x-python",
   "name": "python",
   "nbconvert_exporter": "python",
   "pygments_lexer": "ipython3",
   "version": "3.9.13"
  }
 },
 "nbformat": 4,
 "nbformat_minor": 5
}
