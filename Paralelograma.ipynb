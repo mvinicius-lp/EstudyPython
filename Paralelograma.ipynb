{
 "cells": [
  {
   "cell_type": "markdown",
   "id": "44d52cde",
   "metadata": {},
   "source": [
    "Pseudocódigo - Calcular a área de um paralelograma"
   ]
  },
  {
   "cell_type": "markdown",
   "id": "afb6a925",
   "metadata": {},
   "source": [
    "1. Receba a base do paralelogramo (base) como entrada do usuário.\n",
    "2. Receba a altura do paralelogramo (altura) como entrada do usuário.\n",
    "3. Calcule a área do paralelogramo multiplicando a base pela altura.\n",
    "4. Armazene o resultado em uma variável chamada area.\n",
    "5. Exiba a área do paralelogramo na tela."
   ]
  },
  {
   "cell_type": "code",
   "execution_count": null,
   "id": "a314b284",
   "metadata": {},
   "outputs": [],
   "source": [
    "base = float(input(\"Digite a base: \"))\n",
    "altura = float(input(\"Digite a altura: \"))\n",
    "\n",
    "area = base * altura\n",
    "\n",
    "print(\"A área do paralelograma é:\", + area)"
   ]
  }
 ],
 "metadata": {
  "kernelspec": {
   "display_name": "Python 3 (ipykernel)",
   "language": "python",
   "name": "python3"
  },
  "language_info": {
   "codemirror_mode": {
    "name": "ipython",
    "version": 3
   },
   "file_extension": ".py",
   "mimetype": "text/x-python",
   "name": "python",
   "nbconvert_exporter": "python",
   "pygments_lexer": "ipython3",
   "version": "3.9.13"
  }
 },
 "nbformat": 4,
 "nbformat_minor": 5
}
