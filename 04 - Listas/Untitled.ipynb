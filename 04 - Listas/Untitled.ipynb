{
 "cells": [
  {
   "cell_type": "markdown",
   "id": "7bb1e946",
   "metadata": {},
   "source": [
    "# listas"
   ]
  },
  {
   "cell_type": "code",
   "execution_count": 1,
   "id": "0a0ee350",
   "metadata": {},
   "outputs": [],
   "source": [
    "lista_1 = [\"arroz, frango, tomate, leite\"]"
   ]
  },
  {
   "cell_type": "code",
   "execution_count": 2,
   "id": "8110d94a",
   "metadata": {},
   "outputs": [
    {
     "data": {
      "text/plain": [
       "list"
      ]
     },
     "execution_count": 2,
     "metadata": {},
     "output_type": "execute_result"
    }
   ],
   "source": [
    "type(lista_1)"
   ]
  },
  {
   "cell_type": "code",
   "execution_count": 4,
   "id": "9b69e29b",
   "metadata": {},
   "outputs": [
    {
     "name": "stdout",
     "output_type": "stream",
     "text": [
      "['arroz, frango, tomate, leite']\n"
     ]
    }
   ],
   "source": [
    "print(lista_1)"
   ]
  },
  {
   "cell_type": "code",
   "execution_count": 5,
   "id": "94e10d17",
   "metadata": {},
   "outputs": [],
   "source": [
    "lista_2 = [\"arroz\", \"frango\", \"tomate\", \"leite\"]"
   ]
  },
  {
   "cell_type": "code",
   "execution_count": 6,
   "id": "f6f21ab6",
   "metadata": {},
   "outputs": [
    {
     "data": {
      "text/plain": [
       "list"
      ]
     },
     "execution_count": 6,
     "metadata": {},
     "output_type": "execute_result"
    }
   ],
   "source": [
    "type(lista_2)"
   ]
  },
  {
   "cell_type": "code",
   "execution_count": 7,
   "id": "4a18a3e9",
   "metadata": {},
   "outputs": [
    {
     "name": "stdout",
     "output_type": "stream",
     "text": [
      "['arroz', 'frango', 'tomate', 'leite']\n"
     ]
    }
   ],
   "source": [
    "print(lista_2)"
   ]
  },
  {
   "cell_type": "code",
   "execution_count": 8,
   "id": "d6a89b2b",
   "metadata": {},
   "outputs": [],
   "source": [
    "lista_3 = [23, 100, \"cientista de dados\"]"
   ]
  },
  {
   "cell_type": "code",
   "execution_count": 9,
   "id": "02a8757b",
   "metadata": {},
   "outputs": [
    {
     "data": {
      "text/plain": [
       "list"
      ]
     },
     "execution_count": 9,
     "metadata": {},
     "output_type": "execute_result"
    }
   ],
   "source": [
    "type(lista_3)"
   ]
  },
  {
   "cell_type": "code",
   "execution_count": 10,
   "id": "9d1e6cc3",
   "metadata": {},
   "outputs": [
    {
     "name": "stdout",
     "output_type": "stream",
     "text": [
      "[23, 100, 'cientista de dados']\n"
     ]
    }
   ],
   "source": [
    "print(lista_3)"
   ]
  },
  {
   "cell_type": "code",
   "execution_count": 11,
   "id": "6dc612c3",
   "metadata": {},
   "outputs": [
    {
     "name": "stdout",
     "output_type": "stream",
     "text": [
      "cientista de dados\n"
     ]
    }
   ],
   "source": [
    "print(lista_3[2])"
   ]
  },
  {
   "cell_type": "code",
   "execution_count": 12,
   "id": "49ef9158",
   "metadata": {},
   "outputs": [],
   "source": [
    "item1 = lista_3[0]\n",
    "item2 = lista_3[1]\n",
    "item3 = lista_3[2]"
   ]
  },
  {
   "cell_type": "code",
   "execution_count": 14,
   "id": "8af39d15",
   "metadata": {},
   "outputs": [
    {
     "name": "stdout",
     "output_type": "stream",
     "text": [
      "23 100 cientista de dados\n"
     ]
    }
   ],
   "source": [
    "print(item1, item2,item3)"
   ]
  },
  {
   "cell_type": "code",
   "execution_count": 15,
   "id": "6d601084",
   "metadata": {},
   "outputs": [
    {
     "name": "stdout",
     "output_type": "stream",
     "text": [
      "['arroz', 'frango', 'tomate', 'leite']\n"
     ]
    }
   ],
   "source": [
    "print(lista_2)"
   ]
  },
  {
   "cell_type": "code",
   "execution_count": 16,
   "id": "59e185bc",
   "metadata": {},
   "outputs": [],
   "source": [
    "lista_2[2] = \"chocolate\""
   ]
  },
  {
   "cell_type": "code",
   "execution_count": 17,
   "id": "fef222dd",
   "metadata": {},
   "outputs": [
    {
     "name": "stdout",
     "output_type": "stream",
     "text": [
      "['arroz', 'frango', 'chocolate', 'leite']\n"
     ]
    }
   ],
   "source": [
    "print(lista_2)"
   ]
  },
  {
   "cell_type": "code",
   "execution_count": 19,
   "id": "9b8646f2",
   "metadata": {},
   "outputs": [],
   "source": [
    "del lista_2[3]"
   ]
  },
  {
   "cell_type": "code",
   "execution_count": 20,
   "id": "ab60fc61",
   "metadata": {},
   "outputs": [
    {
     "data": {
      "text/plain": [
       "['arroz', 'frango', 'chocolate']"
      ]
     },
     "execution_count": 20,
     "metadata": {},
     "output_type": "execute_result"
    }
   ],
   "source": [
    "lista_2"
   ]
  },
  {
   "cell_type": "code",
   "execution_count": 21,
   "id": "50799f4c",
   "metadata": {},
   "outputs": [],
   "source": [
    "del lista_2[2]"
   ]
  },
  {
   "cell_type": "code",
   "execution_count": 22,
   "id": "b86c5021",
   "metadata": {},
   "outputs": [
    {
     "data": {
      "text/plain": [
       "['arroz', 'frango']"
      ]
     },
     "execution_count": 22,
     "metadata": {},
     "output_type": "execute_result"
    }
   ],
   "source": [
    "lista_2"
   ]
  },
  {
   "cell_type": "markdown",
   "id": "d5aa7aa1",
   "metadata": {},
   "source": [
    "### Listas aninhadas"
   ]
  },
  {
   "cell_type": "code",
   "execution_count": 23,
   "id": "01efcbdf",
   "metadata": {},
   "outputs": [],
   "source": [
    "listas = [[1,2,3], [4,5,6],[7,8,9]]"
   ]
  },
  {
   "cell_type": "code",
   "execution_count": 24,
   "id": "3b53fcca",
   "metadata": {},
   "outputs": [
    {
     "data": {
      "text/plain": [
       "[[1, 2, 3], [4, 5, 6], [7, 8, 9]]"
      ]
     },
     "execution_count": 24,
     "metadata": {},
     "output_type": "execute_result"
    }
   ],
   "source": [
    "listas"
   ]
  },
  {
   "cell_type": "code",
   "execution_count": 25,
   "id": "09a18869",
   "metadata": {},
   "outputs": [
    {
     "name": "stdout",
     "output_type": "stream",
     "text": [
      "[1, 2, 3]\n"
     ]
    }
   ],
   "source": [
    "print(listas[0])"
   ]
  },
  {
   "cell_type": "code",
   "execution_count": 26,
   "id": "bc3050c8",
   "metadata": {},
   "outputs": [
    {
     "name": "stdout",
     "output_type": "stream",
     "text": [
      "[4, 5, 6]\n"
     ]
    }
   ],
   "source": [
    "print(listas[1])"
   ]
  },
  {
   "cell_type": "code",
   "execution_count": 29,
   "id": "7baf4307",
   "metadata": {},
   "outputs": [],
   "source": [
    "a = listas[0]"
   ]
  },
  {
   "cell_type": "code",
   "execution_count": 30,
   "id": "da05170c",
   "metadata": {},
   "outputs": [],
   "source": [
    "b = a[0]"
   ]
  },
  {
   "cell_type": "code",
   "execution_count": 31,
   "id": "715530de",
   "metadata": {},
   "outputs": [
    {
     "data": {
      "text/plain": [
       "1"
      ]
     },
     "execution_count": 31,
     "metadata": {},
     "output_type": "execute_result"
    }
   ],
   "source": [
    "b"
   ]
  },
  {
   "cell_type": "code",
   "execution_count": 33,
   "id": "c38ab00d",
   "metadata": {},
   "outputs": [],
   "source": [
    "lista1 = listas[0]"
   ]
  },
  {
   "cell_type": "code",
   "execution_count": 34,
   "id": "89f9e3fd",
   "metadata": {},
   "outputs": [
    {
     "data": {
      "text/plain": [
       "[1, 2, 3]"
      ]
     },
     "execution_count": 34,
     "metadata": {},
     "output_type": "execute_result"
    }
   ],
   "source": [
    "lista1"
   ]
  },
  {
   "cell_type": "markdown",
   "id": "458cd188",
   "metadata": {},
   "source": [
    "### operações com listas"
   ]
  },
  {
   "cell_type": "code",
   "execution_count": 35,
   "id": "64f58e05",
   "metadata": {},
   "outputs": [],
   "source": [
    "listas = [[1,2,3], [4,5,6],[7,8,9]]"
   ]
  },
  {
   "cell_type": "code",
   "execution_count": 36,
   "id": "6d970ad6",
   "metadata": {},
   "outputs": [],
   "source": [
    "a = listas[0][0]"
   ]
  },
  {
   "cell_type": "code",
   "execution_count": 37,
   "id": "02ceafbd",
   "metadata": {},
   "outputs": [
    {
     "data": {
      "text/plain": [
       "1"
      ]
     },
     "execution_count": 37,
     "metadata": {},
     "output_type": "execute_result"
    }
   ],
   "source": [
    "a"
   ]
  },
  {
   "cell_type": "code",
   "execution_count": 38,
   "id": "412990dc",
   "metadata": {},
   "outputs": [],
   "source": [
    "b = listas[1][2]"
   ]
  },
  {
   "cell_type": "code",
   "execution_count": 39,
   "id": "f3ad1c5e",
   "metadata": {},
   "outputs": [
    {
     "data": {
      "text/plain": [
       "6"
      ]
     },
     "execution_count": 39,
     "metadata": {},
     "output_type": "execute_result"
    }
   ],
   "source": [
    "b"
   ]
  },
  {
   "cell_type": "code",
   "execution_count": 40,
   "id": "bf9a50ae",
   "metadata": {},
   "outputs": [],
   "source": [
    "a = listas[0][0] + 10"
   ]
  },
  {
   "cell_type": "code",
   "execution_count": 41,
   "id": "9f7ad358",
   "metadata": {},
   "outputs": [
    {
     "data": {
      "text/plain": [
       "11"
      ]
     },
     "execution_count": 41,
     "metadata": {},
     "output_type": "execute_result"
    }
   ],
   "source": [
    "a"
   ]
  },
  {
   "cell_type": "markdown",
   "id": "9241696e",
   "metadata": {},
   "source": [
    "### concatenando listas"
   ]
  },
  {
   "cell_type": "code",
   "execution_count": 42,
   "id": "34a35fef",
   "metadata": {},
   "outputs": [],
   "source": [
    "lista_s1 = [23,34,45]"
   ]
  },
  {
   "cell_type": "code",
   "execution_count": 43,
   "id": "761c4bee",
   "metadata": {},
   "outputs": [
    {
     "data": {
      "text/plain": [
       "[23, 34, 45]"
      ]
     },
     "execution_count": 43,
     "metadata": {},
     "output_type": "execute_result"
    }
   ],
   "source": [
    "lista_s1"
   ]
  },
  {
   "cell_type": "code",
   "execution_count": 44,
   "id": "e6739bbc",
   "metadata": {},
   "outputs": [],
   "source": [
    "lista_s2 = [21,23,34]"
   ]
  },
  {
   "cell_type": "code",
   "execution_count": 47,
   "id": "5c6b330c",
   "metadata": {},
   "outputs": [],
   "source": [
    "listaTotal = lista_s1 + lista_s2"
   ]
  },
  {
   "cell_type": "code",
   "execution_count": 48,
   "id": "9211f3e6",
   "metadata": {},
   "outputs": [
    {
     "data": {
      "text/plain": [
       "[23, 34, 45, 21, 23, 34]"
      ]
     },
     "execution_count": 48,
     "metadata": {},
     "output_type": "execute_result"
    }
   ],
   "source": [
    "listaTotal"
   ]
  },
  {
   "cell_type": "markdown",
   "id": "42c59515",
   "metadata": {},
   "source": [
    "### operador in"
   ]
  },
  {
   "cell_type": "code",
   "execution_count": 49,
   "id": "fef92279",
   "metadata": {},
   "outputs": [
    {
     "name": "stdout",
     "output_type": "stream",
     "text": [
      "True\n"
     ]
    }
   ],
   "source": [
    "print(23 in listaTotal)"
   ]
  },
  {
   "cell_type": "code",
   "execution_count": 50,
   "id": "ca8db3e7",
   "metadata": {},
   "outputs": [
    {
     "name": "stdout",
     "output_type": "stream",
     "text": [
      "False\n"
     ]
    }
   ],
   "source": [
    "print(100 in listaTotal)"
   ]
  },
  {
   "cell_type": "markdown",
   "id": "05d1d08d",
   "metadata": {},
   "source": [
    "### Funções Built-in"
   ]
  },
  {
   "cell_type": "code",
   "execution_count": 51,
   "id": "20324b02",
   "metadata": {},
   "outputs": [],
   "source": [
    "lista_num = [10,20,50,-3.4]"
   ]
  },
  {
   "cell_type": "code",
   "execution_count": 52,
   "id": "e75425ab",
   "metadata": {},
   "outputs": [
    {
     "data": {
      "text/plain": [
       "4"
      ]
     },
     "execution_count": 52,
     "metadata": {},
     "output_type": "execute_result"
    }
   ],
   "source": [
    "len(lista_num)"
   ]
  },
  {
   "cell_type": "code",
   "execution_count": 53,
   "id": "80783027",
   "metadata": {},
   "outputs": [
    {
     "data": {
      "text/plain": [
       "50"
      ]
     },
     "execution_count": 53,
     "metadata": {},
     "output_type": "execute_result"
    }
   ],
   "source": [
    "max(lista_num)"
   ]
  },
  {
   "cell_type": "code",
   "execution_count": 54,
   "id": "cea8d8a7",
   "metadata": {},
   "outputs": [
    {
     "data": {
      "text/plain": [
       "-3.4"
      ]
     },
     "execution_count": 54,
     "metadata": {},
     "output_type": "execute_result"
    }
   ],
   "source": [
    "min(lista_num)"
   ]
  },
  {
   "cell_type": "code",
   "execution_count": 55,
   "id": "be4b6f36",
   "metadata": {},
   "outputs": [],
   "source": [
    "lista_formacoes = [\"analista de dados\", \"cientista de dados\", \"engenheiro de dados\"]"
   ]
  },
  {
   "cell_type": "code",
   "execution_count": 56,
   "id": "8ee0bff9",
   "metadata": {},
   "outputs": [
    {
     "data": {
      "text/plain": [
       "['analista de dados', 'cientista de dados', 'engenheiro de dados']"
      ]
     },
     "execution_count": 56,
     "metadata": {},
     "output_type": "execute_result"
    }
   ],
   "source": [
    "lista_formacoes"
   ]
  },
  {
   "cell_type": "code",
   "execution_count": 57,
   "id": "449f7b32",
   "metadata": {},
   "outputs": [],
   "source": [
    "lista_formacoes.append(\"enhenheiro de IA\")"
   ]
  },
  {
   "cell_type": "code",
   "execution_count": 58,
   "id": "b8fe3dcc",
   "metadata": {},
   "outputs": [
    {
     "data": {
      "text/plain": [
       "['analista de dados',\n",
       " 'cientista de dados',\n",
       " 'engenheiro de dados',\n",
       " 'enhenheiro de IA']"
      ]
     },
     "execution_count": 58,
     "metadata": {},
     "output_type": "execute_result"
    }
   ],
   "source": [
    "lista_formacoes"
   ]
  },
  {
   "cell_type": "code",
   "execution_count": 59,
   "id": "135c019f",
   "metadata": {},
   "outputs": [],
   "source": [
    "lista01 = [\"Marcos\", \"23\", \"SI\"]"
   ]
  },
  {
   "cell_type": "code",
   "execution_count": 60,
   "id": "362beb49",
   "metadata": {},
   "outputs": [],
   "source": [
    "newLista = []"
   ]
  },
  {
   "cell_type": "code",
   "execution_count": 61,
   "id": "67f37eb2",
   "metadata": {},
   "outputs": [],
   "source": [
    "for item in lista01:\n",
    "    newLista.append(item)"
   ]
  },
  {
   "cell_type": "code",
   "execution_count": 62,
   "id": "bf487719",
   "metadata": {},
   "outputs": [
    {
     "data": {
      "text/plain": [
       "['Marcos', '23', 'SI']"
      ]
     },
     "execution_count": 62,
     "metadata": {},
     "output_type": "execute_result"
    }
   ],
   "source": [
    "newLista"
   ]
  }
 ],
 "metadata": {
  "kernelspec": {
   "display_name": "Python 3 (ipykernel)",
   "language": "python",
   "name": "python3"
  },
  "language_info": {
   "codemirror_mode": {
    "name": "ipython",
    "version": 3
   },
   "file_extension": ".py",
   "mimetype": "text/x-python",
   "name": "python",
   "nbconvert_exporter": "python",
   "pygments_lexer": "ipython3",
   "version": "3.9.13"
  }
 },
 "nbformat": 4,
 "nbformat_minor": 5
}
