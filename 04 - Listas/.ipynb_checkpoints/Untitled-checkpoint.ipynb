{
 "cells": [
  {
   "cell_type": "markdown",
   "id": "4a5a726a",
   "metadata": {},
   "source": [
    "# listas"
   ]
  },
  {
   "cell_type": "code",
   "execution_count": 1,
   "id": "bdbefb53",
   "metadata": {},
   "outputs": [],
   "source": [
    "lista_1 = [\"arroz, frango, tomate, leite\"]"
   ]
  },
  {
   "cell_type": "code",
   "execution_count": 2,
   "id": "bc155e25",
   "metadata": {},
   "outputs": [
    {
     "data": {
      "text/plain": [
       "list"
      ]
     },
     "execution_count": 2,
     "metadata": {},
     "output_type": "execute_result"
    }
   ],
   "source": [
    "type(lista_1)"
   ]
  },
  {
   "cell_type": "code",
   "execution_count": 4,
   "id": "4a6bc4f0",
   "metadata": {},
   "outputs": [
    {
     "name": "stdout",
     "output_type": "stream",
     "text": [
      "['arroz, frango, tomate, leite']\n"
     ]
    }
   ],
   "source": [
    "print(lista_1)"
   ]
  },
  {
   "cell_type": "code",
   "execution_count": 5,
   "id": "90ec27ec",
   "metadata": {},
   "outputs": [],
   "source": [
    "lista_2 = [\"arroz\", \"frango\", \"tomate\", \"leite\"]"
   ]
  },
  {
   "cell_type": "code",
   "execution_count": 6,
   "id": "8c2bb925",
   "metadata": {},
   "outputs": [
    {
     "data": {
      "text/plain": [
       "list"
      ]
     },
     "execution_count": 6,
     "metadata": {},
     "output_type": "execute_result"
    }
   ],
   "source": [
    "type(lista_2)"
   ]
  },
  {
   "cell_type": "code",
   "execution_count": 7,
   "id": "afb22e38",
   "metadata": {},
   "outputs": [
    {
     "name": "stdout",
     "output_type": "stream",
     "text": [
      "['arroz', 'frango', 'tomate', 'leite']\n"
     ]
    }
   ],
   "source": [
    "print(lista_2)"
   ]
  },
  {
   "cell_type": "code",
   "execution_count": 8,
   "id": "fd4b7475",
   "metadata": {},
   "outputs": [],
   "source": [
    "lista_3 = [23, 100, \"cientista de dados\"]"
   ]
  },
  {
   "cell_type": "code",
   "execution_count": 9,
   "id": "f726aa29",
   "metadata": {},
   "outputs": [
    {
     "data": {
      "text/plain": [
       "list"
      ]
     },
     "execution_count": 9,
     "metadata": {},
     "output_type": "execute_result"
    }
   ],
   "source": [
    "type(lista_3)"
   ]
  },
  {
   "cell_type": "code",
   "execution_count": 10,
   "id": "460a4f4f",
   "metadata": {},
   "outputs": [
    {
     "name": "stdout",
     "output_type": "stream",
     "text": [
      "[23, 100, 'cientista de dados']\n"
     ]
    }
   ],
   "source": [
    "print(lista_3)"
   ]
  },
  {
   "cell_type": "code",
   "execution_count": 11,
   "id": "5ba062a8",
   "metadata": {},
   "outputs": [
    {
     "name": "stdout",
     "output_type": "stream",
     "text": [
      "cientista de dados\n"
     ]
    }
   ],
   "source": [
    "print(lista_3[2])"
   ]
  },
  {
   "cell_type": "code",
   "execution_count": 12,
   "id": "77ac1b8c",
   "metadata": {},
   "outputs": [],
   "source": [
    "item1 = lista_3[0]\n",
    "item2 = lista_3[1]\n",
    "item3 = lista_3[2]"
   ]
  },
  {
   "cell_type": "code",
   "execution_count": 14,
   "id": "c238e5de",
   "metadata": {},
   "outputs": [
    {
     "name": "stdout",
     "output_type": "stream",
     "text": [
      "23 100 cientista de dados\n"
     ]
    }
   ],
   "source": [
    "print(item1, item2,item3)"
   ]
  },
  {
   "cell_type": "code",
   "execution_count": 15,
   "id": "b768db47",
   "metadata": {},
   "outputs": [
    {
     "name": "stdout",
     "output_type": "stream",
     "text": [
      "['arroz', 'frango', 'tomate', 'leite']\n"
     ]
    }
   ],
   "source": [
    "print(lista_2)"
   ]
  },
  {
   "cell_type": "code",
   "execution_count": 16,
   "id": "4f8efaff",
   "metadata": {},
   "outputs": [],
   "source": [
    "lista_2[2] = \"chocolate\""
   ]
  },
  {
   "cell_type": "code",
   "execution_count": 17,
   "id": "43055d43",
   "metadata": {},
   "outputs": [
    {
     "name": "stdout",
     "output_type": "stream",
     "text": [
      "['arroz', 'frango', 'chocolate', 'leite']\n"
     ]
    }
   ],
   "source": [
    "print(lista_2)"
   ]
  },
  {
   "cell_type": "code",
   "execution_count": 19,
   "id": "5af9a1bd",
   "metadata": {},
   "outputs": [],
   "source": [
    "del lista_2[3]"
   ]
  },
  {
   "cell_type": "code",
   "execution_count": 20,
   "id": "9e6e8f68",
   "metadata": {},
   "outputs": [
    {
     "data": {
      "text/plain": [
       "['arroz', 'frango', 'chocolate']"
      ]
     },
     "execution_count": 20,
     "metadata": {},
     "output_type": "execute_result"
    }
   ],
   "source": [
    "lista_2"
   ]
  },
  {
   "cell_type": "code",
   "execution_count": 21,
   "id": "7e6de01e",
   "metadata": {},
   "outputs": [],
   "source": [
    "del lista_2[2]"
   ]
  },
  {
   "cell_type": "code",
   "execution_count": 22,
   "id": "6273e92b",
   "metadata": {},
   "outputs": [
    {
     "data": {
      "text/plain": [
       "['arroz', 'frango']"
      ]
     },
     "execution_count": 22,
     "metadata": {},
     "output_type": "execute_result"
    }
   ],
   "source": [
    "lista_2"
   ]
  },
  {
   "cell_type": "markdown",
   "id": "e1277831",
   "metadata": {},
   "source": [
    "### Listas aninhadas"
   ]
  },
  {
   "cell_type": "code",
   "execution_count": 23,
   "id": "bbfe83b5",
   "metadata": {},
   "outputs": [],
   "source": [
    "listas = [[1,2,3], [4,5,6],[7,8,9]]"
   ]
  },
  {
   "cell_type": "code",
   "execution_count": 24,
   "id": "72217e46",
   "metadata": {},
   "outputs": [
    {
     "data": {
      "text/plain": [
       "[[1, 2, 3], [4, 5, 6], [7, 8, 9]]"
      ]
     },
     "execution_count": 24,
     "metadata": {},
     "output_type": "execute_result"
    }
   ],
   "source": [
    "listas"
   ]
  },
  {
   "cell_type": "code",
   "execution_count": 25,
   "id": "25d9bed4",
   "metadata": {},
   "outputs": [
    {
     "name": "stdout",
     "output_type": "stream",
     "text": [
      "[1, 2, 3]\n"
     ]
    }
   ],
   "source": [
    "print(listas[0])"
   ]
  },
  {
   "cell_type": "code",
   "execution_count": 26,
   "id": "4d1e5e21",
   "metadata": {},
   "outputs": [
    {
     "name": "stdout",
     "output_type": "stream",
     "text": [
      "[4, 5, 6]\n"
     ]
    }
   ],
   "source": [
    "print(listas[1])"
   ]
  },
  {
   "cell_type": "code",
   "execution_count": 29,
   "id": "7887ab09",
   "metadata": {},
   "outputs": [],
   "source": [
    "a = listas[0]"
   ]
  },
  {
   "cell_type": "code",
   "execution_count": 30,
   "id": "d11a1e6f",
   "metadata": {},
   "outputs": [],
   "source": [
    "b = a[0]"
   ]
  },
  {
   "cell_type": "code",
   "execution_count": 31,
   "id": "d930f2f0",
   "metadata": {},
   "outputs": [
    {
     "data": {
      "text/plain": [
       "1"
      ]
     },
     "execution_count": 31,
     "metadata": {},
     "output_type": "execute_result"
    }
   ],
   "source": [
    "b"
   ]
  },
  {
   "cell_type": "code",
   "execution_count": 33,
   "id": "0f568cd6",
   "metadata": {},
   "outputs": [],
   "source": [
    "lista1 = listas[0]"
   ]
  },
  {
   "cell_type": "code",
   "execution_count": 34,
   "id": "8bb45c9b",
   "metadata": {},
   "outputs": [
    {
     "data": {
      "text/plain": [
       "[1, 2, 3]"
      ]
     },
     "execution_count": 34,
     "metadata": {},
     "output_type": "execute_result"
    }
   ],
   "source": [
    "lista1"
   ]
  },
  {
   "cell_type": "markdown",
   "id": "8f975912",
   "metadata": {},
   "source": [
    "### operações com listas"
   ]
  },
  {
   "cell_type": "code",
   "execution_count": 35,
   "id": "fb1263a0",
   "metadata": {},
   "outputs": [],
   "source": [
    "listas = [[1,2,3], [4,5,6],[7,8,9]]"
   ]
  },
  {
   "cell_type": "code",
   "execution_count": 36,
   "id": "a27f1759",
   "metadata": {},
   "outputs": [],
   "source": [
    "a = listas[0][0]"
   ]
  },
  {
   "cell_type": "code",
   "execution_count": 37,
   "id": "185311ad",
   "metadata": {},
   "outputs": [
    {
     "data": {
      "text/plain": [
       "1"
      ]
     },
     "execution_count": 37,
     "metadata": {},
     "output_type": "execute_result"
    }
   ],
   "source": [
    "a"
   ]
  },
  {
   "cell_type": "code",
   "execution_count": 38,
   "id": "d035bca2",
   "metadata": {},
   "outputs": [],
   "source": [
    "b = listas[1][2]"
   ]
  },
  {
   "cell_type": "code",
   "execution_count": 39,
   "id": "4a21cd5f",
   "metadata": {},
   "outputs": [
    {
     "data": {
      "text/plain": [
       "6"
      ]
     },
     "execution_count": 39,
     "metadata": {},
     "output_type": "execute_result"
    }
   ],
   "source": [
    "b"
   ]
  },
  {
   "cell_type": "code",
   "execution_count": 40,
   "id": "032bfedf",
   "metadata": {},
   "outputs": [],
   "source": [
    "a = listas[0][0] + 10"
   ]
  },
  {
   "cell_type": "code",
   "execution_count": 41,
   "id": "0a34d796",
   "metadata": {},
   "outputs": [
    {
     "data": {
      "text/plain": [
       "11"
      ]
     },
     "execution_count": 41,
     "metadata": {},
     "output_type": "execute_result"
    }
   ],
   "source": [
    "a"
   ]
  },
  {
   "cell_type": "markdown",
   "id": "6735c00d",
   "metadata": {},
   "source": [
    "### concatenando listas"
   ]
  },
  {
   "cell_type": "code",
   "execution_count": 42,
   "id": "5476e230",
   "metadata": {},
   "outputs": [],
   "source": [
    "lista_s1 = [23,34,45]"
   ]
  },
  {
   "cell_type": "code",
   "execution_count": 43,
   "id": "aca0b1bd",
   "metadata": {},
   "outputs": [
    {
     "data": {
      "text/plain": [
       "[23, 34, 45]"
      ]
     },
     "execution_count": 43,
     "metadata": {},
     "output_type": "execute_result"
    }
   ],
   "source": [
    "lista_s1"
   ]
  },
  {
   "cell_type": "code",
   "execution_count": 44,
   "id": "91ac0d57",
   "metadata": {},
   "outputs": [],
   "source": [
    "lista_s2 = [21,23,34]"
   ]
  },
  {
   "cell_type": "code",
   "execution_count": 47,
   "id": "26f6264a",
   "metadata": {},
   "outputs": [],
   "source": [
    "listaTotal = lista_s1 + lista_s2"
   ]
  },
  {
   "cell_type": "code",
   "execution_count": 48,
   "id": "ae9be57d",
   "metadata": {},
   "outputs": [
    {
     "data": {
      "text/plain": [
       "[23, 34, 45, 21, 23, 34]"
      ]
     },
     "execution_count": 48,
     "metadata": {},
     "output_type": "execute_result"
    }
   ],
   "source": [
    "listaTotal"
   ]
  },
  {
   "cell_type": "markdown",
   "id": "36ef4b15",
   "metadata": {},
   "source": [
    "### operador in"
   ]
  },
  {
   "cell_type": "code",
   "execution_count": 49,
   "id": "f9c1c6c4",
   "metadata": {},
   "outputs": [
    {
     "name": "stdout",
     "output_type": "stream",
     "text": [
      "True\n"
     ]
    }
   ],
   "source": [
    "print(23 in listaTotal)"
   ]
  },
  {
   "cell_type": "code",
   "execution_count": 50,
   "id": "db1b8ef7",
   "metadata": {},
   "outputs": [
    {
     "name": "stdout",
     "output_type": "stream",
     "text": [
      "False\n"
     ]
    }
   ],
   "source": [
    "print(100 in listaTotal)"
   ]
  },
  {
   "cell_type": "markdown",
   "id": "c012fb10",
   "metadata": {},
   "source": [
    "### Funções Built-in"
   ]
  },
  {
   "cell_type": "code",
   "execution_count": 51,
   "id": "d340b666",
   "metadata": {},
   "outputs": [],
   "source": [
    "lista_num = [10,20,50,-3.4]"
   ]
  },
  {
   "cell_type": "code",
   "execution_count": 52,
   "id": "5639c3fb",
   "metadata": {},
   "outputs": [
    {
     "data": {
      "text/plain": [
       "4"
      ]
     },
     "execution_count": 52,
     "metadata": {},
     "output_type": "execute_result"
    }
   ],
   "source": [
    "len(lista_num)"
   ]
  },
  {
   "cell_type": "code",
   "execution_count": 53,
   "id": "ed501e4b",
   "metadata": {},
   "outputs": [
    {
     "data": {
      "text/plain": [
       "50"
      ]
     },
     "execution_count": 53,
     "metadata": {},
     "output_type": "execute_result"
    }
   ],
   "source": [
    "max(lista_num)"
   ]
  },
  {
   "cell_type": "code",
   "execution_count": 54,
   "id": "bbafb052",
   "metadata": {},
   "outputs": [
    {
     "data": {
      "text/plain": [
       "-3.4"
      ]
     },
     "execution_count": 54,
     "metadata": {},
     "output_type": "execute_result"
    }
   ],
   "source": [
    "min(lista_num)"
   ]
  },
  {
   "cell_type": "code",
   "execution_count": 55,
   "id": "5f6f1a84",
   "metadata": {},
   "outputs": [],
   "source": [
    "lista_formacoes = [\"analista de dados\", \"cientista de dados\", \"engenheiro de dados\"]"
   ]
  },
  {
   "cell_type": "code",
   "execution_count": 56,
   "id": "c6ce4598",
   "metadata": {},
   "outputs": [
    {
     "data": {
      "text/plain": [
       "['analista de dados', 'cientista de dados', 'engenheiro de dados']"
      ]
     },
     "execution_count": 56,
     "metadata": {},
     "output_type": "execute_result"
    }
   ],
   "source": [
    "lista_formacoes"
   ]
  },
  {
   "cell_type": "code",
   "execution_count": 57,
   "id": "7b15821d",
   "metadata": {},
   "outputs": [],
   "source": [
    "lista_formacoes.append(\"enhenheiro de IA\")"
   ]
  },
  {
   "cell_type": "code",
   "execution_count": 58,
   "id": "7f920248",
   "metadata": {},
   "outputs": [
    {
     "data": {
      "text/plain": [
       "['analista de dados',\n",
       " 'cientista de dados',\n",
       " 'engenheiro de dados',\n",
       " 'enhenheiro de IA']"
      ]
     },
     "execution_count": 58,
     "metadata": {},
     "output_type": "execute_result"
    }
   ],
   "source": [
    "lista_formacoes"
   ]
  },
  {
   "cell_type": "code",
   "execution_count": 59,
   "id": "eb3d096c",
   "metadata": {},
   "outputs": [],
   "source": [
    "lista01 = [\"Marcos\", \"23\", \"SI\"]"
   ]
  },
  {
   "cell_type": "code",
   "execution_count": 60,
   "id": "5dd62b7d",
   "metadata": {},
   "outputs": [],
   "source": [
    "newLista = []"
   ]
  },
  {
   "cell_type": "code",
   "execution_count": 61,
   "id": "ff583995",
   "metadata": {},
   "outputs": [],
   "source": [
    "for item in lista01:\n",
    "    newLista.append(item)"
   ]
  },
  {
   "cell_type": "code",
   "execution_count": 62,
   "id": "a25a1f65",
   "metadata": {},
   "outputs": [
    {
     "data": {
      "text/plain": [
       "['Marcos', '23', 'SI']"
      ]
     },
     "execution_count": 62,
     "metadata": {},
     "output_type": "execute_result"
    }
   ],
   "source": [
    "newLista"
   ]
  }
 ],
 "metadata": {
  "kernelspec": {
   "display_name": "Python 3 (ipykernel)",
   "language": "python",
   "name": "python3"
  },
  "language_info": {
   "codemirror_mode": {
    "name": "ipython",
    "version": 3
   },
   "file_extension": ".py",
   "mimetype": "text/x-python",
   "name": "python",
   "nbconvert_exporter": "python",
   "pygments_lexer": "ipython3",
   "version": "3.9.13"
  }
 },
 "nbformat": 4,
 "nbformat_minor": 5
}
