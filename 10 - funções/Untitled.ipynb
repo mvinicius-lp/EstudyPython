{
 "cells": [
  {
   "cell_type": "markdown",
   "id": "65a20a6d",
   "metadata": {},
   "source": [
    "# Funções"
   ]
  },
  {
   "cell_type": "code",
   "execution_count": 1,
   "id": "cad6bc62",
   "metadata": {},
   "outputs": [
    {
     "name": "stdout",
     "output_type": "stream",
     "text": [
      "Hello World\n"
     ]
    }
   ],
   "source": [
    "print(\"Hello World\")"
   ]
  },
  {
   "cell_type": "code",
   "execution_count": 3,
   "id": "ab68c13c",
   "metadata": {},
   "outputs": [],
   "source": [
    "def primeiraFunc():\n",
    "    print(\"Hllo World\")"
   ]
  },
  {
   "cell_type": "code",
   "execution_count": 5,
   "id": "9c463d27",
   "metadata": {},
   "outputs": [
    {
     "name": "stdout",
     "output_type": "stream",
     "text": [
      "Hllo World\n"
     ]
    }
   ],
   "source": [
    "primeiraFunc()"
   ]
  },
  {
   "cell_type": "code",
   "execution_count": 14,
   "id": "3f2aacc1",
   "metadata": {},
   "outputs": [],
   "source": [
    "def soma(a, b):\n",
    "    return a + b"
   ]
  },
  {
   "cell_type": "code",
   "execution_count": 16,
   "id": "07f6d6a4",
   "metadata": {},
   "outputs": [
    {
     "name": "stdout",
     "output_type": "stream",
     "text": [
      "14\n"
     ]
    }
   ],
   "source": [
    "a = 5\n",
    "b = 9\n",
    "print(soma(a, b))"
   ]
  },
  {
   "cell_type": "code",
   "execution_count": 25,
   "id": "26444474",
   "metadata": {},
   "outputs": [],
   "source": [
    "def helloName(nome):\n",
    "    print(\"Hello %s\" %(nome))"
   ]
  },
  {
   "cell_type": "code",
   "execution_count": 28,
   "id": "2fa4ba87",
   "metadata": {},
   "outputs": [
    {
     "name": "stdout",
     "output_type": "stream",
     "text": [
      "Hello Marcos\n",
      "None\n"
     ]
    }
   ],
   "source": [
    "nome = \"Marcos\"\n",
    "print(helloName(nome))"
   ]
  },
  {
   "cell_type": "code",
   "execution_count": 31,
   "id": "770eeeb3",
   "metadata": {},
   "outputs": [],
   "source": [
    "vartuple = (\"Marcos\", \"Vinicius\", \"De\", \"Sousa\", \"Lima\")\n",
    "def func(arq1, *vartuple):\n",
    "    print(\"o parametro passado foi: \", arq1)\n",
    "    \n",
    "    for i in vartuple:\n",
    "        print(\"o parametro passado foi: \", vartuple)"
   ]
  },
  {
   "cell_type": "code",
   "execution_count": 32,
   "id": "2c00fd11",
   "metadata": {},
   "outputs": [
    {
     "name": "stdout",
     "output_type": "stream",
     "text": [
      "o parametro passado foi:  10\n",
      "None\n"
     ]
    }
   ],
   "source": [
    "print(func(10))"
   ]
  },
  {
   "cell_type": "code",
   "execution_count": 33,
   "id": "ccbfaf7f",
   "metadata": {},
   "outputs": [
    {
     "name": "stdout",
     "output_type": "stream",
     "text": [
      "o parametro passado foi:  ('Marcos', 'Vinicius', 'De', 'Sousa', 'Lima')\n",
      "None\n"
     ]
    }
   ],
   "source": [
    "print(func(vartuple))"
   ]
  },
  {
   "cell_type": "markdown",
   "id": "266a3d4b",
   "metadata": {},
   "source": [
    "### Escopo de variável local e global"
   ]
  },
  {
   "cell_type": "code",
   "execution_count": 38,
   "id": "d891ec50",
   "metadata": {},
   "outputs": [],
   "source": [
    "var_global = 10\n",
    "\n",
    "def multiplica(num1, num2):\n",
    "    var_global = num1 * num2\n",
    "    print(var_global)"
   ]
  },
  {
   "cell_type": "code",
   "execution_count": 35,
   "id": "d7d34f4d",
   "metadata": {},
   "outputs": [
    {
     "name": "stdout",
     "output_type": "stream",
     "text": [
      "125\n"
     ]
    }
   ],
   "source": [
    "multiplica(5, 25)"
   ]
  },
  {
   "cell_type": "code",
   "execution_count": 39,
   "id": "21e4128e",
   "metadata": {},
   "outputs": [
    {
     "data": {
      "text/plain": [
       "10"
      ]
     },
     "execution_count": 39,
     "metadata": {},
     "output_type": "execute_result"
    }
   ],
   "source": [
    "var_global"
   ]
  },
  {
   "cell_type": "markdown",
   "id": "d560baea",
   "metadata": {},
   "source": [
    "# Funções Built-in"
   ]
  },
  {
   "cell_type": "code",
   "execution_count": 40,
   "id": "7ba80a88",
   "metadata": {},
   "outputs": [
    {
     "data": {
      "text/plain": [
       "15"
      ]
     },
     "execution_count": 40,
     "metadata": {},
     "output_type": "execute_result"
    }
   ],
   "source": [
    "a = 5\n",
    "b = 10\n",
    "sum(a,b)"
   ]
  },
  {
   "cell_type": "code",
   "execution_count": 41,
   "id": "53d5664e",
   "metadata": {},
   "outputs": [
    {
     "data": {
      "text/plain": [
       "12"
      ]
     },
     "execution_count": 41,
     "metadata": {},
     "output_type": "execute_result"
    }
   ],
   "source": [
    "abs(-12)"
   ]
  },
  {
   "cell_type": "code",
   "execution_count": 42,
   "id": "318ee13f",
   "metadata": {},
   "outputs": [
    {
     "data": {
      "text/plain": [
       "12"
      ]
     },
     "execution_count": 42,
     "metadata": {},
     "output_type": "execute_result"
    }
   ],
   "source": [
    "abs(12)"
   ]
  },
  {
   "cell_type": "code",
   "execution_count": 43,
   "id": "d1fb8204",
   "metadata": {},
   "outputs": [
    {
     "data": {
      "text/plain": [
       "False"
      ]
     },
     "execution_count": 43,
     "metadata": {},
     "output_type": "execute_result"
    }
   ],
   "source": [
    "bool(0)"
   ]
  },
  {
   "cell_type": "code",
   "execution_count": 44,
   "id": "dd98940e",
   "metadata": {},
   "outputs": [
    {
     "data": {
      "text/plain": [
       "True"
      ]
     },
     "execution_count": 44,
     "metadata": {},
     "output_type": "execute_result"
    }
   ],
   "source": [
    "bool(1)"
   ]
  },
  {
   "cell_type": "code",
   "execution_count": 45,
   "id": "b5bb1d23",
   "metadata": {},
   "outputs": [
    {
     "data": {
      "text/plain": [
       "4"
      ]
     },
     "execution_count": 45,
     "metadata": {},
     "output_type": "execute_result"
    }
   ],
   "source": [
    "int(4.3)"
   ]
  },
  {
   "cell_type": "code",
   "execution_count": 47,
   "id": "42a140d2",
   "metadata": {},
   "outputs": [
    {
     "data": {
      "text/plain": [
       "5.0"
      ]
     },
     "execution_count": 47,
     "metadata": {},
     "output_type": "execute_result"
    }
   ],
   "source": [
    "float(5)"
   ]
  },
  {
   "cell_type": "code",
   "execution_count": 52,
   "id": "70c271dc",
   "metadata": {},
   "outputs": [],
   "source": [
    "array = [1,2,3,4,5,6]"
   ]
  },
  {
   "cell_type": "code",
   "execution_count": 49,
   "id": "a569e784",
   "metadata": {},
   "outputs": [
    {
     "data": {
      "text/plain": [
       "1"
      ]
     },
     "execution_count": 49,
     "metadata": {},
     "output_type": "execute_result"
    }
   ],
   "source": [
    "min(array)"
   ]
  },
  {
   "cell_type": "code",
   "execution_count": 50,
   "id": "7b916f70",
   "metadata": {},
   "outputs": [
    {
     "data": {
      "text/plain": [
       "6"
      ]
     },
     "execution_count": 50,
     "metadata": {},
     "output_type": "execute_result"
    }
   ],
   "source": [
    "max(array)"
   ]
  },
  {
   "cell_type": "code",
   "execution_count": null,
   "id": "bdeb2a16",
   "metadata": {},
   "outputs": [],
   "source": []
  }
 ],
 "metadata": {
  "kernelspec": {
   "display_name": "Python 3 (ipykernel)",
   "language": "python",
   "name": "python3"
  },
  "language_info": {
   "codemirror_mode": {
    "name": "ipython",
    "version": 3
   },
   "file_extension": ".py",
   "mimetype": "text/x-python",
   "name": "python",
   "nbconvert_exporter": "python",
   "pygments_lexer": "ipython3",
   "version": "3.9.13"
  }
 },
 "nbformat": 4,
 "nbformat_minor": 5
}
