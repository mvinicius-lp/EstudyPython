{
 "cells": [
  {
   "cell_type": "markdown",
   "id": "d98ec7e5",
   "metadata": {},
   "source": [
    "# Funções"
   ]
  },
  {
   "cell_type": "code",
   "execution_count": 1,
   "id": "831faa7b",
   "metadata": {},
   "outputs": [
    {
     "name": "stdout",
     "output_type": "stream",
     "text": [
      "Hello World\n"
     ]
    }
   ],
   "source": [
    "print(\"Hello World\")"
   ]
  },
  {
   "cell_type": "code",
   "execution_count": 3,
   "id": "e62cf84d",
   "metadata": {},
   "outputs": [],
   "source": [
    "def primeiraFunc():\n",
    "    print(\"Hllo World\")"
   ]
  },
  {
   "cell_type": "code",
   "execution_count": 5,
   "id": "83de7123",
   "metadata": {},
   "outputs": [
    {
     "name": "stdout",
     "output_type": "stream",
     "text": [
      "Hllo World\n"
     ]
    }
   ],
   "source": [
    "primeiraFunc()"
   ]
  },
  {
   "cell_type": "code",
   "execution_count": 14,
   "id": "abea2fad",
   "metadata": {},
   "outputs": [],
   "source": [
    "def soma(a, b):\n",
    "    return a + b"
   ]
  },
  {
   "cell_type": "code",
   "execution_count": 16,
   "id": "db4543e1",
   "metadata": {},
   "outputs": [
    {
     "name": "stdout",
     "output_type": "stream",
     "text": [
      "14\n"
     ]
    }
   ],
   "source": [
    "a = 5\n",
    "b = 9\n",
    "print(soma(a, b))"
   ]
  },
  {
   "cell_type": "code",
   "execution_count": 25,
   "id": "4778aac7",
   "metadata": {},
   "outputs": [],
   "source": [
    "def helloName(nome):\n",
    "    print(\"Hello %s\" %(nome))"
   ]
  },
  {
   "cell_type": "code",
   "execution_count": 28,
   "id": "06ab651a",
   "metadata": {},
   "outputs": [
    {
     "name": "stdout",
     "output_type": "stream",
     "text": [
      "Hello Marcos\n",
      "None\n"
     ]
    }
   ],
   "source": [
    "nome = \"Marcos\"\n",
    "print(helloName(nome))"
   ]
  },
  {
   "cell_type": "code",
   "execution_count": 31,
   "id": "98a433dd",
   "metadata": {},
   "outputs": [],
   "source": [
    "vartuple = (\"Marcos\", \"Vinicius\", \"De\", \"Sousa\", \"Lima\")\n",
    "def func(arq1, *vartuple):\n",
    "    print(\"o parametro passado foi: \", arq1)\n",
    "    \n",
    "    for i in vartuple:\n",
    "        print(\"o parametro passado foi: \", vartuple)"
   ]
  },
  {
   "cell_type": "code",
   "execution_count": 32,
   "id": "680a681b",
   "metadata": {},
   "outputs": [
    {
     "name": "stdout",
     "output_type": "stream",
     "text": [
      "o parametro passado foi:  10\n",
      "None\n"
     ]
    }
   ],
   "source": [
    "print(func(10))"
   ]
  },
  {
   "cell_type": "code",
   "execution_count": 33,
   "id": "8d27bf36",
   "metadata": {},
   "outputs": [
    {
     "name": "stdout",
     "output_type": "stream",
     "text": [
      "o parametro passado foi:  ('Marcos', 'Vinicius', 'De', 'Sousa', 'Lima')\n",
      "None\n"
     ]
    }
   ],
   "source": [
    "print(func(vartuple))"
   ]
  },
  {
   "cell_type": "markdown",
   "id": "540cc3ce",
   "metadata": {},
   "source": [
    "### Escopo de variável local e global"
   ]
  },
  {
   "cell_type": "code",
   "execution_count": 38,
   "id": "4ad8daaf",
   "metadata": {},
   "outputs": [],
   "source": [
    "var_global = 10\n",
    "\n",
    "def multiplica(num1, num2):\n",
    "    var_global = num1 * num2\n",
    "    print(var_global)"
   ]
  },
  {
   "cell_type": "code",
   "execution_count": 35,
   "id": "bc750e55",
   "metadata": {},
   "outputs": [
    {
     "name": "stdout",
     "output_type": "stream",
     "text": [
      "125\n"
     ]
    }
   ],
   "source": [
    "multiplica(5, 25)"
   ]
  },
  {
   "cell_type": "code",
   "execution_count": 39,
   "id": "7cad2573",
   "metadata": {},
   "outputs": [
    {
     "data": {
      "text/plain": [
       "10"
      ]
     },
     "execution_count": 39,
     "metadata": {},
     "output_type": "execute_result"
    }
   ],
   "source": [
    "var_global"
   ]
  },
  {
   "cell_type": "markdown",
   "id": "24510d7d",
   "metadata": {},
   "source": [
    "# Funções Built-in"
   ]
  },
  {
   "cell_type": "code",
   "execution_count": 40,
   "id": "19b5f721",
   "metadata": {},
   "outputs": [
    {
     "data": {
      "text/plain": [
       "15"
      ]
     },
     "execution_count": 40,
     "metadata": {},
     "output_type": "execute_result"
    }
   ],
   "source": [
    "a = 5\n",
    "b = 10\n",
    "sum(a,b)"
   ]
  },
  {
   "cell_type": "code",
   "execution_count": 41,
   "id": "50a1a3b0",
   "metadata": {},
   "outputs": [
    {
     "data": {
      "text/plain": [
       "12"
      ]
     },
     "execution_count": 41,
     "metadata": {},
     "output_type": "execute_result"
    }
   ],
   "source": [
    "abs(-12)"
   ]
  },
  {
   "cell_type": "code",
   "execution_count": 42,
   "id": "49ef4262",
   "metadata": {},
   "outputs": [
    {
     "data": {
      "text/plain": [
       "12"
      ]
     },
     "execution_count": 42,
     "metadata": {},
     "output_type": "execute_result"
    }
   ],
   "source": [
    "abs(12)"
   ]
  },
  {
   "cell_type": "code",
   "execution_count": 43,
   "id": "0e41643f",
   "metadata": {},
   "outputs": [
    {
     "data": {
      "text/plain": [
       "False"
      ]
     },
     "execution_count": 43,
     "metadata": {},
     "output_type": "execute_result"
    }
   ],
   "source": [
    "bool(0)"
   ]
  },
  {
   "cell_type": "code",
   "execution_count": 44,
   "id": "0a942d48",
   "metadata": {},
   "outputs": [
    {
     "data": {
      "text/plain": [
       "True"
      ]
     },
     "execution_count": 44,
     "metadata": {},
     "output_type": "execute_result"
    }
   ],
   "source": [
    "bool(1)"
   ]
  },
  {
   "cell_type": "code",
   "execution_count": 45,
   "id": "158aa235",
   "metadata": {},
   "outputs": [
    {
     "data": {
      "text/plain": [
       "4"
      ]
     },
     "execution_count": 45,
     "metadata": {},
     "output_type": "execute_result"
    }
   ],
   "source": [
    "int(4.3)"
   ]
  },
  {
   "cell_type": "code",
   "execution_count": 47,
   "id": "6e3c18cc",
   "metadata": {},
   "outputs": [
    {
     "data": {
      "text/plain": [
       "5.0"
      ]
     },
     "execution_count": 47,
     "metadata": {},
     "output_type": "execute_result"
    }
   ],
   "source": [
    "float(5)"
   ]
  },
  {
   "cell_type": "code",
   "execution_count": 52,
   "id": "45cb5920",
   "metadata": {},
   "outputs": [],
   "source": [
    "array = [1,2,3,4,5,6]"
   ]
  },
  {
   "cell_type": "code",
   "execution_count": 49,
   "id": "391b352c",
   "metadata": {},
   "outputs": [
    {
     "data": {
      "text/plain": [
       "1"
      ]
     },
     "execution_count": 49,
     "metadata": {},
     "output_type": "execute_result"
    }
   ],
   "source": [
    "min(array)"
   ]
  },
  {
   "cell_type": "code",
   "execution_count": 50,
   "id": "d82706ef",
   "metadata": {},
   "outputs": [
    {
     "data": {
      "text/plain": [
       "6"
      ]
     },
     "execution_count": 50,
     "metadata": {},
     "output_type": "execute_result"
    }
   ],
   "source": [
    "max(array)"
   ]
  },
  {
   "cell_type": "markdown",
   "id": "22810638",
   "metadata": {},
   "source": [
    "# funções usando outras funções"
   ]
  },
  {
   "cell_type": "code",
   "execution_count": 61,
   "id": "08e160f8",
   "metadata": {},
   "outputs": [],
   "source": [
    "import math\n",
    "def ehPrimo(num):\n",
    "    if (num % 2) == 0 and num > 2:\n",
    "        print(\"este numero não é primo\")\n",
    "    for i in range(3, int(math.sqrt(num)) + 1, 2):\n",
    "        if num % i == 0:\n",
    "            print(\"este numero não é primo\")\n",
    "        return print(\"este numero é primo\")"
   ]
  },
  {
   "cell_type": "code",
   "execution_count": 58,
   "id": "0c567444",
   "metadata": {},
   "outputs": [
    {
     "name": "stdout",
     "output_type": "stream",
     "text": [
      "este numero é primo\n",
      "None\n"
     ]
    }
   ],
   "source": [
    "print(ehPrimo(2))"
   ]
  },
  {
   "cell_type": "code",
   "execution_count": 62,
   "id": "33d28892",
   "metadata": {},
   "outputs": [
    {
     "name": "stdout",
     "output_type": "stream",
     "text": [
      "este numero não é primo\n",
      "None\n"
     ]
    }
   ],
   "source": [
    "print(ehPrimo(4))"
   ]
  },
  {
   "cell_type": "code",
   "execution_count": 63,
   "id": "c28438b6",
   "metadata": {},
   "outputs": [],
   "source": [
    "def up(text):\n",
    "    return text.upper()"
   ]
  },
  {
   "cell_type": "code",
   "execution_count": 64,
   "id": "6888e2cb",
   "metadata": {},
   "outputs": [
    {
     "name": "stdout",
     "output_type": "stream",
     "text": [
      "TESTANDO\n"
     ]
    }
   ],
   "source": [
    "texto = \"testando\"\n",
    "\n",
    "print(up(texto))"
   ]
  },
  {
   "cell_type": "markdown",
   "id": "f70c2859",
   "metadata": {},
   "source": [
    "# fazendo split dos dados"
   ]
  },
  {
   "cell_type": "code",
   "execution_count": 65,
   "id": "38f78cb8",
   "metadata": {},
   "outputs": [],
   "source": [
    "def split_string_palavras(text):\n",
    "    return text.split(\" \")"
   ]
  },
  {
   "cell_type": "code",
   "execution_count": 66,
   "id": "26cc33e8",
   "metadata": {},
   "outputs": [],
   "source": [
    "texto = \"esta função será muito útil para separar grandes volumes de dados\""
   ]
  },
  {
   "cell_type": "code",
   "execution_count": 67,
   "id": "f6a563bc",
   "metadata": {},
   "outputs": [
    {
     "name": "stdout",
     "output_type": "stream",
     "text": [
      "['esta', 'função', 'será', 'muito', 'útil', 'para', 'separar', 'grandes', 'volumes', 'de', 'dados']\n"
     ]
    }
   ],
   "source": [
    "print(split_string_palavras(texto))"
   ]
  },
  {
   "cell_type": "code",
   "execution_count": 68,
   "id": "00344135",
   "metadata": {},
   "outputs": [],
   "source": [
    "token = split_string_palavras(texto)"
   ]
  },
  {
   "cell_type": "code",
   "execution_count": 69,
   "id": "8a3eb8ed",
   "metadata": {},
   "outputs": [
    {
     "data": {
      "text/plain": [
       "['esta',\n",
       " 'função',\n",
       " 'será',\n",
       " 'muito',\n",
       " 'útil',\n",
       " 'para',\n",
       " 'separar',\n",
       " 'grandes',\n",
       " 'volumes',\n",
       " 'de',\n",
       " 'dados']"
      ]
     },
     "execution_count": 69,
     "metadata": {},
     "output_type": "execute_result"
    }
   ],
   "source": [
    "token"
   ]
  },
  {
   "cell_type": "markdown",
   "id": "900508ef",
   "metadata": {},
   "source": [
    "# Expressão lambda"
   ]
  },
  {
   "cell_type": "code",
   "execution_count": 70,
   "id": "fcba8242",
   "metadata": {},
   "outputs": [],
   "source": [
    "def potencia(num):\n",
    "    resultado = num ** 2\n",
    "    return resultado"
   ]
  },
  {
   "cell_type": "code",
   "execution_count": 71,
   "id": "70d5aedd",
   "metadata": {},
   "outputs": [
    {
     "data": {
      "text/plain": [
       "25"
      ]
     },
     "execution_count": 71,
     "metadata": {},
     "output_type": "execute_result"
    }
   ],
   "source": [
    "potencia(5)"
   ]
  },
  {
   "cell_type": "code",
   "execution_count": 72,
   "id": "0c174e99",
   "metadata": {},
   "outputs": [],
   "source": [
    "def potencia(num):\n",
    "    return num ** 2"
   ]
  },
  {
   "cell_type": "code",
   "execution_count": 73,
   "id": "9b0c1434",
   "metadata": {},
   "outputs": [
    {
     "data": {
      "text/plain": [
       "4"
      ]
     },
     "execution_count": 73,
     "metadata": {},
     "output_type": "execute_result"
    }
   ],
   "source": [
    "potencia(2)"
   ]
  },
  {
   "cell_type": "code",
   "execution_count": 74,
   "id": "59c1576b",
   "metadata": {},
   "outputs": [],
   "source": [
    "def potencia(num): return num ** 2"
   ]
  },
  {
   "cell_type": "code",
   "execution_count": 75,
   "id": "f12a4074",
   "metadata": {},
   "outputs": [
    {
     "data": {
      "text/plain": [
       "36"
      ]
     },
     "execution_count": 75,
     "metadata": {},
     "output_type": "execute_result"
    }
   ],
   "source": [
    "potencia(6)"
   ]
  },
  {
   "cell_type": "code",
   "execution_count": 76,
   "id": "d8cdd635",
   "metadata": {},
   "outputs": [],
   "source": [
    "potencia = lambda num: num ** 2"
   ]
  },
  {
   "cell_type": "code",
   "execution_count": 77,
   "id": "9cd4a03e",
   "metadata": {},
   "outputs": [
    {
     "data": {
      "text/plain": [
       "100"
      ]
     },
     "execution_count": 77,
     "metadata": {},
     "output_type": "execute_result"
    }
   ],
   "source": [
    "potencia(10)"
   ]
  },
  {
   "cell_type": "code",
   "execution_count": 78,
   "id": "fb3592be",
   "metadata": {},
   "outputs": [],
   "source": [
    "par = lambda num: num % 2 == 0"
   ]
  },
  {
   "cell_type": "code",
   "execution_count": 79,
   "id": "e732c3db",
   "metadata": {},
   "outputs": [
    {
     "data": {
      "text/plain": [
       "False"
      ]
     },
     "execution_count": 79,
     "metadata": {},
     "output_type": "execute_result"
    }
   ],
   "source": [
    "par(1)"
   ]
  },
  {
   "cell_type": "code",
   "execution_count": 80,
   "id": "26b14322",
   "metadata": {},
   "outputs": [
    {
     "data": {
      "text/plain": [
       "True"
      ]
     },
     "execution_count": 80,
     "metadata": {},
     "output_type": "execute_result"
    }
   ],
   "source": [
    "par(2)"
   ]
  },
  {
   "cell_type": "markdown",
   "id": "8eb11c3b",
   "metadata": {},
   "source": [
    "# list comprehenshion"
   ]
  },
  {
   "cell_type": "code",
   "execution_count": 83,
   "id": "67547579",
   "metadata": {},
   "outputs": [
    {
     "data": {
      "text/plain": [
       "[0, 1, 2, 3, 4, 5, 6, 7, 8, 9, 10]"
      ]
     },
     "execution_count": 83,
     "metadata": {},
     "output_type": "execute_result"
    }
   ],
   "source": [
    "[x for x in range(0, 11)]"
   ]
  },
  {
   "cell_type": "code",
   "execution_count": 84,
   "id": "9138dfa8",
   "metadata": {},
   "outputs": [],
   "source": [
    "lista = [x for x in range(0, 11)]"
   ]
  },
  {
   "cell_type": "code",
   "execution_count": 85,
   "id": "884b00d7",
   "metadata": {},
   "outputs": [
    {
     "data": {
      "text/plain": [
       "[0, 1, 2, 3, 4, 5, 6, 7, 8, 9, 10]"
      ]
     },
     "execution_count": 85,
     "metadata": {},
     "output_type": "execute_result"
    }
   ],
   "source": [
    "lista"
   ]
  },
  {
   "cell_type": "code",
   "execution_count": 86,
   "id": "4a64ea80",
   "metadata": {},
   "outputs": [],
   "source": [
    "lista = [x for x in range(0, 11) if x % 2 != 0]"
   ]
  },
  {
   "cell_type": "code",
   "execution_count": 87,
   "id": "5e1d9e7a",
   "metadata": {},
   "outputs": [
    {
     "data": {
      "text/plain": [
       "[1, 3, 5, 7, 9]"
      ]
     },
     "execution_count": 87,
     "metadata": {},
     "output_type": "execute_result"
    }
   ],
   "source": [
    "lista"
   ]
  }
 ],
 "metadata": {
  "kernelspec": {
   "display_name": "Python 3 (ipykernel)",
   "language": "python",
   "name": "python3"
  },
  "language_info": {
   "codemirror_mode": {
    "name": "ipython",
    "version": 3
   },
   "file_extension": ".py",
   "mimetype": "text/x-python",
   "name": "python",
   "nbconvert_exporter": "python",
   "pygments_lexer": "ipython3",
   "version": "3.9.13"
  }
 },
 "nbformat": 4,
 "nbformat_minor": 5
}
