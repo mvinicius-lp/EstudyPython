{
 "cells": [
  {
   "cell_type": "markdown",
   "id": "3ceb85fa",
   "metadata": {},
   "source": [
    "# Condicionais"
   ]
  },
  {
   "cell_type": "code",
   "execution_count": 1,
   "id": "4ccabf45",
   "metadata": {},
   "outputs": [
    {
     "name": "stdout",
     "output_type": "stream",
     "text": [
      "Sentença verdadeira\n"
     ]
    }
   ],
   "source": [
    "if 5 > 2:\n",
    "    print(\"Sentença verdadeira\")"
   ]
  },
  {
   "cell_type": "code",
   "execution_count": 2,
   "id": "2db92222",
   "metadata": {},
   "outputs": [
    {
     "name": "stdout",
     "output_type": "stream",
     "text": [
      "a sentença é falsa\n"
     ]
    }
   ],
   "source": [
    "if 5 < 2:\n",
    "    print(\"a sentença é verdadeira\")\n",
    "else:\n",
    "    print(\"a sentença é falsa\")"
   ]
  },
  {
   "cell_type": "code",
   "execution_count": 3,
   "id": "7bdc7dd1",
   "metadata": {},
   "outputs": [
    {
     "name": "stdout",
     "output_type": "stream",
     "text": [
      "hoje fará sol\n"
     ]
    }
   ],
   "source": [
    "dia = \"segunda\"\n",
    "if dia == \"segunda\":\n",
    "    print(\"hoje fará sol\")\n",
    "else:\n",
    "    print(\"hoje vai chover\")"
   ]
  },
  {
   "cell_type": "code",
   "execution_count": 5,
   "id": "eb786290",
   "metadata": {},
   "outputs": [
    {
     "name": "stdout",
     "output_type": "stream",
     "text": [
      "hoje fará sol\n"
     ]
    }
   ],
   "source": [
    "dia = \"segunda\"\n",
    "if dia == \"segunda\":\n",
    "    print(\"hoje fará sol\")\n",
    "elif dia == \"terça\":\n",
    "    print(\"hoje vai chover\")\n",
    "else: \n",
    "    print(\"sem previsão\")"
   ]
  },
  {
   "cell_type": "markdown",
   "id": "d6fff277",
   "metadata": {},
   "source": [
    "### operadores ralacionais"
   ]
  },
  {
   "cell_type": "code",
   "execution_count": 6,
   "id": "38ffda81",
   "metadata": {},
   "outputs": [
    {
     "data": {
      "text/plain": [
       "True"
      ]
     },
     "execution_count": 6,
     "metadata": {},
     "output_type": "execute_result"
    }
   ],
   "source": [
    "5 > 3"
   ]
  },
  {
   "cell_type": "code",
   "execution_count": 7,
   "id": "0b26d337",
   "metadata": {},
   "outputs": [
    {
     "data": {
      "text/plain": [
       "False"
      ]
     },
     "execution_count": 7,
     "metadata": {},
     "output_type": "execute_result"
    }
   ],
   "source": [
    "3 > 5"
   ]
  },
  {
   "cell_type": "code",
   "execution_count": 8,
   "id": "0cbd3754",
   "metadata": {},
   "outputs": [
    {
     "data": {
      "text/plain": [
       "True"
      ]
     },
     "execution_count": 8,
     "metadata": {},
     "output_type": "execute_result"
    }
   ],
   "source": [
    "4 >= 4"
   ]
  },
  {
   "cell_type": "code",
   "execution_count": 9,
   "id": "aac5985f",
   "metadata": {},
   "outputs": [
    {
     "name": "stdout",
     "output_type": "stream",
     "text": [
      "testando python\n"
     ]
    }
   ],
   "source": [
    "if 5 == 5:\n",
    "    print(\"testando python\")"
   ]
  },
  {
   "cell_type": "markdown",
   "id": "000e4eea",
   "metadata": {},
   "source": [
    "### condicionais aninhados"
   ]
  },
  {
   "cell_type": "code",
   "execution_count": 12,
   "id": "e871e08f",
   "metadata": {},
   "outputs": [
    {
     "name": "stdout",
     "output_type": "stream",
     "text": [
      "Voce pode dirigir\n"
     ]
    }
   ],
   "source": [
    "idade = 18\n",
    "if idade > 17:\n",
    "    print(\"Voce pode dirigir\")"
   ]
  },
  {
   "cell_type": "code",
   "execution_count": 13,
   "id": "759d76b5",
   "metadata": {},
   "outputs": [
    {
     "name": "stdout",
     "output_type": "stream",
     "text": [
      "Ok Bob voce está autorizado a entrar\n"
     ]
    }
   ],
   "source": [
    "nome = \"Bob\"\n",
    "if idade > 13:\n",
    "    if nome == \"Bob\":\n",
    "        print(\"Ok Bob voce está autorizado a entrar\")\n",
    "    else:\n",
    "        print(\"Desculpa, voce nao pode entrar\")"
   ]
  },
  {
   "cell_type": "code",
   "execution_count": 14,
   "id": "f380e273",
   "metadata": {},
   "outputs": [
    {
     "name": "stdout",
     "output_type": "stream",
     "text": [
      "Ok Bob voce está autorizado a entrar\n"
     ]
    }
   ],
   "source": [
    "ifidade > 13 and nome == \"Bob\":\n",
    "    print(\"Ok Bob voce está autorizado a entrar\")"
   ]
  },
  {
   "cell_type": "code",
   "execution_count": 18,
   "id": "c286943d",
   "metadata": {},
   "outputs": [
    {
     "name": "stdout",
     "output_type": "stream",
     "text": [
      "Ok Bob voce está autorizado a entrar\n"
     ]
    }
   ],
   "source": [
    "if (idade > 13) or (nome == \"Bob\"):\n",
    "    print(\"Ok Bob voce está autorizado a entrar\")"
   ]
  }
 ],
 "metadata": {
  "kernelspec": {
   "display_name": "Python 3 (ipykernel)",
   "language": "python",
   "name": "python3"
  },
  "language_info": {
   "codemirror_mode": {
    "name": "ipython",
    "version": 3
   },
   "file_extension": ".py",
   "mimetype": "text/x-python",
   "name": "python",
   "nbconvert_exporter": "python",
   "pygments_lexer": "ipython3",
   "version": "3.9.13"
  }
 },
 "nbformat": 4,
 "nbformat_minor": 5
}
