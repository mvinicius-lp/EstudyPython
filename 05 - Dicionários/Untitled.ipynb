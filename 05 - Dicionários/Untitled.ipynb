{
 "cells": [
  {
   "cell_type": "markdown",
   "id": "ff340a8b",
   "metadata": {},
   "source": [
    "# Dicionários"
   ]
  },
  {
   "cell_type": "code",
   "execution_count": 1,
   "id": "029844f0",
   "metadata": {},
   "outputs": [],
   "source": [
    "estudantes = [\"Pedro\", 24, \"Ana\", 22, \"Ronaldo\", 26, \"Janaina\", 24]"
   ]
  },
  {
   "cell_type": "code",
   "execution_count": 2,
   "id": "cdab5b5b",
   "metadata": {},
   "outputs": [
    {
     "data": {
      "text/plain": [
       "['Pedro', 24, 'Ana', 22, 'Ronaldo', 26, 'Janaina', 24]"
      ]
     },
     "execution_count": 2,
     "metadata": {},
     "output_type": "execute_result"
    }
   ],
   "source": [
    "estudantes"
   ]
  },
  {
   "cell_type": "code",
   "execution_count": 4,
   "id": "aa1f88ba",
   "metadata": {},
   "outputs": [],
   "source": [
    "estudantes = {\"Pedro\": 24, \"Ana\": 22, \"Ronaldo\": 26, \"Janaina\": 24}"
   ]
  },
  {
   "cell_type": "code",
   "execution_count": 5,
   "id": "c55be617",
   "metadata": {},
   "outputs": [
    {
     "data": {
      "text/plain": [
       "{'Pedro': 24, 'Ana': 22, 'Ronaldo': 26, 'Janaina': 24}"
      ]
     },
     "execution_count": 5,
     "metadata": {},
     "output_type": "execute_result"
    }
   ],
   "source": [
    "estudantes"
   ]
  },
  {
   "cell_type": "code",
   "execution_count": 7,
   "id": "31e9bfde",
   "metadata": {},
   "outputs": [
    {
     "data": {
      "text/plain": [
       "24"
      ]
     },
     "execution_count": 7,
     "metadata": {},
     "output_type": "execute_result"
    }
   ],
   "source": [
    "estudantes[\"Pedro\"]"
   ]
  },
  {
   "cell_type": "code",
   "execution_count": 8,
   "id": "37d3c30e",
   "metadata": {},
   "outputs": [
    {
     "data": {
      "text/plain": [
       "26"
      ]
     },
     "execution_count": 8,
     "metadata": {},
     "output_type": "execute_result"
    }
   ],
   "source": [
    "estudantes[\"Ronaldo\"]"
   ]
  },
  {
   "cell_type": "code",
   "execution_count": 9,
   "id": "f71d17d2",
   "metadata": {},
   "outputs": [],
   "source": [
    "estudantes[\"Marcos\"] = 23"
   ]
  },
  {
   "cell_type": "code",
   "execution_count": 10,
   "id": "7e3305c2",
   "metadata": {},
   "outputs": [
    {
     "data": {
      "text/plain": [
       "{'Pedro': 24, 'Ana': 22, 'Ronaldo': 26, 'Janaina': 24, 'Marcos': 23}"
      ]
     },
     "execution_count": 10,
     "metadata": {},
     "output_type": "execute_result"
    }
   ],
   "source": [
    "estudantes"
   ]
  },
  {
   "cell_type": "code",
   "execution_count": 11,
   "id": "dbf92359",
   "metadata": {},
   "outputs": [],
   "source": [
    "estudantes.clear()"
   ]
  },
  {
   "cell_type": "code",
   "execution_count": 12,
   "id": "66c0951b",
   "metadata": {},
   "outputs": [
    {
     "data": {
      "text/plain": [
       "{}"
      ]
     },
     "execution_count": 12,
     "metadata": {},
     "output_type": "execute_result"
    }
   ],
   "source": [
    "estudantes"
   ]
  },
  {
   "cell_type": "code",
   "execution_count": 13,
   "id": "84e76e06",
   "metadata": {},
   "outputs": [],
   "source": [
    "del estudantes "
   ]
  },
  {
   "cell_type": "code",
   "execution_count": 14,
   "id": "e7146567",
   "metadata": {},
   "outputs": [
    {
     "ename": "NameError",
     "evalue": "name 'estudantes' is not defined",
     "output_type": "error",
     "traceback": [
      "\u001b[0;31m---------------------------------------------------------------------------\u001b[0m",
      "\u001b[0;31mNameError\u001b[0m                                 Traceback (most recent call last)",
      "\u001b[0;32m/tmp/ipykernel_20264/1948503067.py\u001b[0m in \u001b[0;36m<module>\u001b[0;34m\u001b[0m\n\u001b[0;32m----> 1\u001b[0;31m \u001b[0mestudantes\u001b[0m\u001b[0;34m\u001b[0m\u001b[0;34m\u001b[0m\u001b[0m\n\u001b[0m",
      "\u001b[0;31mNameError\u001b[0m: name 'estudantes' is not defined"
     ]
    }
   ],
   "source": [
    "estudantes"
   ]
  },
  {
   "cell_type": "code",
   "execution_count": 15,
   "id": "0d39bae1",
   "metadata": {},
   "outputs": [],
   "source": [
    "dict = {'chave0':1230, 'chave2':[22,434,34.5], 'chave3':['picanha', 'fraldinha', 'alcatra']}"
   ]
  },
  {
   "cell_type": "code",
   "execution_count": 16,
   "id": "bab96c9d",
   "metadata": {},
   "outputs": [
    {
     "data": {
      "text/plain": [
       "{'chave0': 1230,\n",
       " 'chave2': [22, 434, 34.5],\n",
       " 'chave3': ['picanha', 'fraldinha', 'alcatra']}"
      ]
     },
     "execution_count": 16,
     "metadata": {},
     "output_type": "execute_result"
    }
   ],
   "source": [
    "dict"
   ]
  },
  {
   "cell_type": "code",
   "execution_count": 17,
   "id": "bfcc2c37",
   "metadata": {},
   "outputs": [
    {
     "data": {
      "text/plain": [
       "[22, 434, 34.5]"
      ]
     },
     "execution_count": 17,
     "metadata": {},
     "output_type": "execute_result"
    }
   ],
   "source": [
    "dict['chave2']"
   ]
  },
  {
   "cell_type": "code",
   "execution_count": 19,
   "id": "6795c32c",
   "metadata": {},
   "outputs": [
    {
     "data": {
      "text/plain": [
       "'PICANHA'"
      ]
     },
     "execution_count": 19,
     "metadata": {},
     "output_type": "execute_result"
    }
   ],
   "source": [
    "dict['chave3'][0].upper()"
   ]
  },
  {
   "cell_type": "markdown",
   "id": "418a73d9",
   "metadata": {},
   "source": [
    "### Tuplas "
   ]
  },
  {
   "cell_type": "code",
   "execution_count": 20,
   "id": "231fc7bb",
   "metadata": {},
   "outputs": [],
   "source": [
    "tupla = (\"Geografia\", 23, \"Elefante\", 9.8, 'Python')"
   ]
  },
  {
   "cell_type": "code",
   "execution_count": 21,
   "id": "f4fa5434",
   "metadata": {},
   "outputs": [
    {
     "ename": "TypeError",
     "evalue": "'tuple' object does not support item deletion",
     "output_type": "error",
     "traceback": [
      "\u001b[0;31m---------------------------------------------------------------------------\u001b[0m",
      "\u001b[0;31mTypeError\u001b[0m                                 Traceback (most recent call last)",
      "\u001b[0;32m/tmp/ipykernel_20264/1468661550.py\u001b[0m in \u001b[0;36m<module>\u001b[0;34m\u001b[0m\n\u001b[0;32m----> 1\u001b[0;31m \u001b[0;32mdel\u001b[0m \u001b[0mtupla\u001b[0m\u001b[0;34m[\u001b[0m\u001b[0;34m\"Elefante\"\u001b[0m\u001b[0;34m]\u001b[0m\u001b[0;34m\u001b[0m\u001b[0;34m\u001b[0m\u001b[0m\n\u001b[0m",
      "\u001b[0;31mTypeError\u001b[0m: 'tuple' object does not support item deletion"
     ]
    }
   ],
   "source": [
    "del tupla[\"Elefante\"]"
   ]
  }
 ],
 "metadata": {
  "kernelspec": {
   "display_name": "Python 3 (ipykernel)",
   "language": "python",
   "name": "python3"
  },
  "language_info": {
   "codemirror_mode": {
    "name": "ipython",
    "version": 3
   },
   "file_extension": ".py",
   "mimetype": "text/x-python",
   "name": "python",
   "nbconvert_exporter": "python",
   "pygments_lexer": "ipython3",
   "version": "3.9.13"
  }
 },
 "nbformat": 4,
 "nbformat_minor": 5
}
