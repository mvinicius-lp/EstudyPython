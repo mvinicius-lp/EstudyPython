{
 "cells": [
  {
   "cell_type": "code",
   "execution_count": 10,
   "id": "9fabaffc",
   "metadata": {},
   "outputs": [],
   "source": [
    "texto = \"Cientista de dados pode ser uma excelente alternativa de carreira. \"\n",
    "texto = texto + \"Esses profissionais precisam saber como programar em python\"\n",
    "texto += \" E, claro, devem ser proficientes em data science\""
   ]
  },
  {
   "cell_type": "code",
   "execution_count": 11,
   "id": "c53812b1",
   "metadata": {},
   "outputs": [
    {
     "name": "stdout",
     "output_type": "stream",
     "text": [
      "Cientista de dados pode ser uma excelente alternativa de carreira. Esses profissionais precisam saber como programar em python E, claro, devem ser proficientes em data science\n"
     ]
    }
   ],
   "source": [
    "print(texto)"
   ]
  },
  {
   "cell_type": "code",
   "execution_count": 12,
   "id": "679ccdf7",
   "metadata": {},
   "outputs": [],
   "source": [
    "import os"
   ]
  },
  {
   "cell_type": "code",
   "execution_count": 13,
   "id": "757b7647",
   "metadata": {},
   "outputs": [],
   "source": [
    "arquivo = open(os.path.join('cientista.txt'), 'w')"
   ]
  },
  {
   "cell_type": "code",
   "execution_count": 14,
   "id": "839f336f",
   "metadata": {},
   "outputs": [],
   "source": [
    "for palavra in texto.split():\n",
    "    arquivo.write(palavra + ' ')"
   ]
  },
  {
   "cell_type": "code",
   "execution_count": 15,
   "id": "38168414",
   "metadata": {},
   "outputs": [],
   "source": [
    "arquivo.close()"
   ]
  },
  {
   "cell_type": "code",
   "execution_count": 16,
   "id": "9dded48c",
   "metadata": {},
   "outputs": [
    {
     "name": "stdout",
     "output_type": "stream",
     "text": [
      "Cientista de dados pode ser uma excelente alternativa de carreira. Esses profissionais precisam saber como programar em python E, claro, devem ser proficientes em data science \n"
     ]
    }
   ],
   "source": [
    "arquivo = open('cientista.txt', 'r')\n",
    "conteudo = arquivo.read()\n",
    "arquivo.close()\n",
    "print(conteudo)"
   ]
  },
  {
   "cell_type": "markdown",
   "id": "01cc943c",
   "metadata": {},
   "source": [
    "# Usando expressão with"
   ]
  },
  {
   "cell_type": "code",
   "execution_count": 17,
   "id": "721c418c",
   "metadata": {},
   "outputs": [],
   "source": [
    "with open('cientista.txt', 'r') as arquivo:\n",
    "    conteudo = arquivo.read()"
   ]
  },
  {
   "cell_type": "code",
   "execution_count": 18,
   "id": "7aa6baa9",
   "metadata": {},
   "outputs": [
    {
     "name": "stdout",
     "output_type": "stream",
     "text": [
      "176\n"
     ]
    }
   ],
   "source": [
    "print(len(conteudo))"
   ]
  },
  {
   "cell_type": "code",
   "execution_count": 19,
   "id": "3bf20675",
   "metadata": {},
   "outputs": [
    {
     "name": "stdout",
     "output_type": "stream",
     "text": [
      "Cientista de dados pode ser uma excelente alternativa de carreira. Esses profissionais precisam saber como programar em python E, claro, devem ser proficientes em data science \n"
     ]
    }
   ],
   "source": [
    "print(conteudo)"
   ]
  },
  {
   "cell_type": "code",
   "execution_count": 20,
   "id": "e0660f3c",
   "metadata": {},
   "outputs": [],
   "source": [
    "with open('cientista.txt', 'w') as arquivo:\n",
    "    arquivo.write(texto[:19])\n",
    "    arquivo.write('\\n')\n",
    "    arquivo.write(texto[28:66])"
   ]
  },
  {
   "cell_type": "code",
   "execution_count": 22,
   "id": "2bca0c77",
   "metadata": {},
   "outputs": [
    {
     "name": "stdout",
     "output_type": "stream",
     "text": [
      "Cientista de dados \n",
      "uma excelente alternativa de carreira.\n"
     ]
    }
   ],
   "source": [
    "arquivo = open('cientista.txt', 'r')\n",
    "conteudo = arquivo.read()\n",
    "arquivo.close\n",
    "print(conteudo)"
   ]
  }
 ],
 "metadata": {
  "kernelspec": {
   "display_name": "Python 3 (ipykernel)",
   "language": "python",
   "name": "python3"
  },
  "language_info": {
   "codemirror_mode": {
    "name": "ipython",
    "version": 3
   },
   "file_extension": ".py",
   "mimetype": "text/x-python",
   "name": "python",
   "nbconvert_exporter": "python",
   "pygments_lexer": "ipython3",
   "version": "3.9.13"
  }
 },
 "nbformat": 4,
 "nbformat_minor": 5
}
