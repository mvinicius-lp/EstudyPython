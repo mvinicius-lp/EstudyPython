{
 "cells": [
  {
   "cell_type": "code",
   "execution_count": 13,
   "id": "6ba68965",
   "metadata": {},
   "outputs": [],
   "source": [
    "arq1 = open(\"arq1.txt\", \"r\")"
   ]
  },
  {
   "cell_type": "code",
   "execution_count": 14,
   "id": "eac25b96",
   "metadata": {},
   "outputs": [
    {
     "name": "stdout",
     "output_type": "stream",
     "text": [
      "A data science academy fornece cursos de alta qualidade e que trasmitem muito conhecimento.\n",
      "\n"
     ]
    }
   ],
   "source": [
    "print(arq1.read())"
   ]
  },
  {
   "cell_type": "code",
   "execution_count": 15,
   "id": "71778a10",
   "metadata": {},
   "outputs": [
    {
     "name": "stdout",
     "output_type": "stream",
     "text": [
      "92\n"
     ]
    }
   ],
   "source": [
    "print(arq1.tell())"
   ]
  },
  {
   "cell_type": "code",
   "execution_count": 25,
   "id": "13277dba",
   "metadata": {},
   "outputs": [
    {
     "name": "stdout",
     "output_type": "stream",
     "text": [
      "0\n"
     ]
    }
   ],
   "source": [
    "#retorna para o inicio do arquivo\n",
    "print(arq1.seek(0,0))"
   ]
  },
  {
   "cell_type": "code",
   "execution_count": 26,
   "id": "67a5a884",
   "metadata": {},
   "outputs": [
    {
     "name": "stdout",
     "output_type": "stream",
     "text": [
      "A data science academy \n"
     ]
    }
   ],
   "source": [
    "print(arq1.read(23))"
   ]
  },
  {
   "cell_type": "code",
   "execution_count": 27,
   "id": "d4bd662f",
   "metadata": {},
   "outputs": [
    {
     "name": "stdout",
     "output_type": "stream",
     "text": [
      "fornece cursos de alta qualidade e que trasmitem muito conhecimento.\n",
      "\n"
     ]
    }
   ],
   "source": [
    "print(arq1.read())"
   ]
  },
  {
   "cell_type": "markdown",
   "id": "a0313586",
   "metadata": {},
   "source": [
    "# Gravando arquivo"
   ]
  },
  {
   "cell_type": "code",
   "execution_count": 40,
   "id": "0230a29f",
   "metadata": {},
   "outputs": [],
   "source": [
    "arq2 = open(\"arq2.txt\", \"w\") #write cria arquivo para escrita"
   ]
  },
  {
   "cell_type": "code",
   "execution_count": 41,
   "id": "6f1af59f",
   "metadata": {},
   "outputs": [
    {
     "data": {
      "text/plain": [
       "29"
      ]
     },
     "execution_count": 41,
     "metadata": {},
     "output_type": "execute_result"
    }
   ],
   "source": [
    "arq2.write(\"aprendendo a programar python\") #escreve no arquivo"
   ]
  },
  {
   "cell_type": "code",
   "execution_count": 42,
   "id": "8b9391eb",
   "metadata": {},
   "outputs": [],
   "source": [
    "arq2.close() #fecha o arquivo"
   ]
  },
  {
   "cell_type": "code",
   "execution_count": 43,
   "id": "aa9ebc1e",
   "metadata": {},
   "outputs": [],
   "source": [
    "arq2 = open(\"arq2.txt\", \"r\") #abre o arquivo para leitura"
   ]
  },
  {
   "cell_type": "code",
   "execution_count": 44,
   "id": "fb8ed96b",
   "metadata": {},
   "outputs": [
    {
     "name": "stdout",
     "output_type": "stream",
     "text": [
      "aprendendo a programar python\n"
     ]
    }
   ],
   "source": [
    "print(arq2.read())"
   ]
  },
  {
   "cell_type": "markdown",
   "id": "419c7f8f",
   "metadata": {},
   "source": [
    "# acrescentando"
   ]
  },
  {
   "cell_type": "code",
   "execution_count": 52,
   "id": "c0012dda",
   "metadata": {},
   "outputs": [],
   "source": [
    "arq2 = open(\"arq2.txt\", \"a\") #modo append acrescenta"
   ]
  },
  {
   "cell_type": "code",
   "execution_count": 53,
   "id": "b0e89d64",
   "metadata": {},
   "outputs": [
    {
     "data": {
      "text/plain": [
       "10"
      ]
     },
     "execution_count": 53,
     "metadata": {},
     "output_type": "execute_result"
    }
   ],
   "source": [
    "arq2.write(\" com a DSA\") #escreve"
   ]
  },
  {
   "cell_type": "code",
   "execution_count": 54,
   "id": "57352963",
   "metadata": {},
   "outputs": [],
   "source": [
    "arq2.close() #fecha o arquivo"
   ]
  },
  {
   "cell_type": "code",
   "execution_count": 55,
   "id": "4047b3ca",
   "metadata": {},
   "outputs": [],
   "source": [
    "arq2 = open(\"arq2.txt\", \"r\") #abre o arquivo para leitura"
   ]
  },
  {
   "cell_type": "code",
   "execution_count": 56,
   "id": "3991bdc0",
   "metadata": {},
   "outputs": [
    {
     "name": "stdout",
     "output_type": "stream",
     "text": [
      "aprendendo a programar pythoncom a DSA com a DSA\n"
     ]
    }
   ],
   "source": [
    "print(arq2.read())"
   ]
  },
  {
   "cell_type": "code",
   "execution_count": 57,
   "id": "e845e734",
   "metadata": {},
   "outputs": [],
   "source": [
    "arq2 = open(\"arq2.txt\", \"a\") "
   ]
  },
  {
   "cell_type": "code",
   "execution_count": 58,
   "id": "eaf37498",
   "metadata": {},
   "outputs": [
    {
     "data": {
      "text/plain": [
       "51"
      ]
     },
     "execution_count": 58,
     "metadata": {},
     "output_type": "execute_result"
    }
   ],
   "source": [
    "arq2.write(\" estou bastante animado com a curca de aprendizagem\") #escreve"
   ]
  },
  {
   "cell_type": "code",
   "execution_count": 59,
   "id": "3b3a0905",
   "metadata": {},
   "outputs": [],
   "source": [
    "arq2.close()"
   ]
  },
  {
   "cell_type": "code",
   "execution_count": 60,
   "id": "80855e91",
   "metadata": {},
   "outputs": [],
   "source": [
    "arq2 = open(\"arq2.txt\", \"r\")"
   ]
  },
  {
   "cell_type": "code",
   "execution_count": 61,
   "id": "bd77c921",
   "metadata": {},
   "outputs": [
    {
     "name": "stdout",
     "output_type": "stream",
     "text": [
      "aprendendo a programar pythoncom a DSA com a DSA estou bastante animado com a curca de aprendizagem\n"
     ]
    }
   ],
   "source": [
    "print(arq2.read())"
   ]
  }
 ],
 "metadata": {
  "kernelspec": {
   "display_name": "Python 3 (ipykernel)",
   "language": "python",
   "name": "python3"
  },
  "language_info": {
   "codemirror_mode": {
    "name": "ipython",
    "version": 3
   },
   "file_extension": ".py",
   "mimetype": "text/x-python",
   "name": "python",
   "nbconvert_exporter": "python",
   "pygments_lexer": "ipython3",
   "version": "3.9.13"
  }
 },
 "nbformat": 4,
 "nbformat_minor": 5
}
