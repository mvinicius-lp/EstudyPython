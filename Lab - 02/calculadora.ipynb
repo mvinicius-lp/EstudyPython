{
 "cells": [
  {
   "cell_type": "code",
   "execution_count": null,
   "id": "9a2129d7",
   "metadata": {},
   "outputs": [
    {
     "name": "stdout",
     "output_type": "stream",
     "text": [
      "selecione o numero da operação desejada\n",
      "\n",
      "1 - Soma \n",
      "2 - Subtração \n",
      "3 - Multiplicação \n",
      "4 - Divisão\n",
      "\n"
     ]
    }
   ],
   "source": [
    "print(\"selecione o numero da operação desejada\\n\")\n",
    "\n",
    "print(\"1 - Soma \\n2 - Subtração \\n3 - Multiplicação \\n4 - Divisão\\n\")\n",
    "\n",
    "opcao = int(input(\"Digite sua opção (1/2/3/4) \\n\"))\n",
    "\n",
    "num1 = float(input(\"Digite o primeiro número: \"))\n",
    "num2 = float(input(\"Digite o segundo número: \"))\n",
    "\n",
    "def soma(num1, num2):\n",
    "    return num1 + num2\n",
    "\n",
    "def sub(num1, num2):\n",
    "    return num1 - num2\n",
    "\n",
    "def mul(num1, num2):\n",
    "    return num1 * num2\n",
    "\n",
    "def div(num1, num2):\n",
    "    return num1 / num2\n",
    "\n",
    "if opcao == 1:\n",
    "    print(soma(num1,num2))\n",
    "elif opcao == 2:\n",
    "    print(sub(num1,num2))\n",
    "elif opcao == 3:\n",
    "    print(mul(num1,num2))\n",
    "else:\n",
    "    print(div(num1,num2))"
   ]
  },
  {
   "cell_type": "code",
   "execution_count": null,
   "id": "a43091d8",
   "metadata": {},
   "outputs": [],
   "source": []
  }
 ],
 "metadata": {
  "kernelspec": {
   "display_name": "Python 3 (ipykernel)",
   "language": "python",
   "name": "python3"
  },
  "language_info": {
   "codemirror_mode": {
    "name": "ipython",
    "version": 3
   },
   "file_extension": ".py",
   "mimetype": "text/x-python",
   "name": "python",
   "nbconvert_exporter": "python",
   "pygments_lexer": "ipython3",
   "version": "3.9.13"
  }
 },
 "nbformat": 4,
 "nbformat_minor": 5
}
