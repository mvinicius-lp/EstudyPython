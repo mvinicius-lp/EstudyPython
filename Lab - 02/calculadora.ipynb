{
 "cells": [
  {
   "cell_type": "code",
   "execution_count": 14,
   "id": "9a2129d7",
   "metadata": {},
   "outputs": [
    {
     "name": "stdout",
     "output_type": "stream",
     "text": [
      "selecione o numero da operação desejada\n",
      "\n",
      "1 - Soma \n",
      "2 - Subtração \n",
      "3 - Multiplicação \n",
      "4 - Divisão\n",
      "\n",
      "Digite sua opção (1/2/3/4) \n",
      "4\n",
      "Digite o primeiro número: 45\n",
      "Digite o segundo número: 2\n",
      "Resultado:  22.5\n"
     ]
    }
   ],
   "source": [
    "def soma(num1, num2):\n",
    "    return num1 + num2\n",
    "\n",
    "def sub(num1, num2):\n",
    "    return num1 - num2\n",
    "\n",
    "def mul(num1, num2):\n",
    "    return num1 * num2\n",
    "\n",
    "def div(num1, num2):\n",
    "    return num1 / num2\n",
    "\n",
    "print(\"selecione o numero da operação desejada\\n\")\n",
    "\n",
    "print(\"1 - Soma \\n2 - Subtração \\n3 - Multiplicação \\n4 - Divisão\\n\")\n",
    "\n",
    "opcao = int(input(\"Digite sua opção (1/2/3/4) \\n\"))\n",
    "\n",
    "num1 = float(input(\"Digite o primeiro número: \"))\n",
    "num2 = float(input(\"Digite o segundo número: \"))\n",
    "\n",
    "if opcao == 1:\n",
    "    print(\"Resultado: \",soma(num1,num2))\n",
    "elif opcao == 2:\n",
    "    print(\"Resultado: \",sub(num1,num2))\n",
    "elif opcao == 3:\n",
    "    print(\"Resultado: \",mul(num1,num2))\n",
    "elif opcao == 4:\n",
    "    if num2 == 0:\n",
    "        print(\"Divisão por zero não é permitida\")\n",
    "    else:\n",
    "        print(\"Resultado: \", div(num1,num2))\n",
    "else:\n",
    "    print(\"operação inválida\")"
   ]
  },
  {
   "cell_type": "code",
   "execution_count": null,
   "id": "d797df92",
   "metadata": {},
   "outputs": [],
   "source": []
  }
 ],
 "metadata": {
  "kernelspec": {
   "display_name": "Python 3 (ipykernel)",
   "language": "python",
   "name": "python3"
  },
  "language_info": {
   "codemirror_mode": {
    "name": "ipython",
    "version": 3
   },
   "file_extension": ".py",
   "mimetype": "text/x-python",
   "name": "python",
   "nbconvert_exporter": "python",
   "pygments_lexer": "ipython3",
   "version": "3.9.13"
  }
 },
 "nbformat": 4,
 "nbformat_minor": 5
}
