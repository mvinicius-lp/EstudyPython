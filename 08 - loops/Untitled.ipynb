{
 "cells": [
  {
   "cell_type": "markdown",
   "id": "ce03212f",
   "metadata": {},
   "source": [
    "# loop for"
   ]
  },
  {
   "cell_type": "code",
   "execution_count": 1,
   "id": "29cdb29a",
   "metadata": {},
   "outputs": [
    {
     "name": "stdout",
     "output_type": "stream",
     "text": [
      "1\n",
      "2\n",
      "3\n"
     ]
    }
   ],
   "source": [
    "tp = (1,2,3)\n",
    "for i in tp:\n",
    "    print(i)"
   ]
  },
  {
   "cell_type": "code",
   "execution_count": 2,
   "id": "d072860c",
   "metadata": {},
   "outputs": [
    {
     "name": "stdout",
     "output_type": "stream",
     "text": [
      "['data', 'science', 'academy']\n",
      "['data', 'science', 'academy']\n",
      "['data', 'science', 'academy']\n"
     ]
    }
   ],
   "source": [
    "string = [\"data\", \"science\", \"academy\"]\n",
    "for i in string:\n",
    "    print(string)"
   ]
  },
  {
   "cell_type": "code",
   "execution_count": 4,
   "id": "ac84e4ba",
   "metadata": {},
   "outputs": [
    {
     "name": "stdout",
     "output_type": "stream",
     "text": [
      "0\n",
      "1\n",
      "2\n",
      "3\n",
      "4\n",
      "5\n",
      "6\n",
      "7\n",
      "8\n",
      "9\n",
      "10\n"
     ]
    }
   ],
   "source": [
    "for contador in range(0,11):\n",
    "    print(contador)"
   ]
  },
  {
   "cell_type": "code",
   "execution_count": 5,
   "id": "49c28383",
   "metadata": {},
   "outputs": [
    {
     "name": "stdout",
     "output_type": "stream",
     "text": [
      "2\n",
      "4\n",
      "6\n",
      "8\n",
      "10\n"
     ]
    }
   ],
   "source": [
    "lista = [1,2,3,4,5,6,7,8,9,10]\n",
    "\n",
    "for i in lista:\n",
    "    if i % 2 == 0:\n",
    "        print(i)"
   ]
  },
  {
   "cell_type": "markdown",
   "id": "e3869458",
   "metadata": {},
   "source": [
    "### for aninhado"
   ]
  },
  {
   "cell_type": "code",
   "execution_count": 22,
   "id": "6543f54f",
   "metadata": {},
   "outputs": [
    {
     "name": "stdout",
     "output_type": "stream",
     "text": [
      "\n",
      " 1\n",
      "\n",
      " 3\n",
      "\n",
      " 5\n",
      "\n",
      " 6\n",
      "----\n",
      "\n",
      " 2\n",
      "\n",
      " 6\n",
      "\n",
      " 10\n",
      "\n",
      " 12\n",
      "----\n",
      "\n",
      " 3\n",
      "\n",
      " 9\n",
      "\n",
      " 15\n",
      "\n",
      " 18\n",
      "----\n",
      "\n",
      " 4\n",
      "\n",
      " 12\n",
      "\n",
      " 20\n",
      "\n",
      " 24\n",
      "----\n"
     ]
    }
   ],
   "source": [
    "lista1 = [1,2,3,4]\n",
    "lista2 = [1,3,5,6]\n",
    "\n",
    "for i in lista1:\n",
    "    for j in lista2:\n",
    "        print(\"\\n\", i * j)\n",
    "    print(\"----\")"
   ]
  },
  {
   "cell_type": "code",
   "execution_count": 14,
   "id": "75a18631",
   "metadata": {},
   "outputs": [
    {
     "name": "stdout",
     "output_type": "stream",
     "text": [
      "1\n",
      "3\n"
     ]
    }
   ],
   "source": [
    "lista1 = [1,2,3,4]\n",
    "lista2 = [1,3,5,6]\n",
    "\n",
    "for i in lista1:\n",
    "    for j in lista2:\n",
    "        if i == j:\n",
    "            print(i)"
   ]
  },
  {
   "cell_type": "code",
   "execution_count": 21,
   "id": "d0cc037e",
   "metadata": {},
   "outputs": [
    {
     "name": "stdout",
     "output_type": "stream",
     "text": [
      "sim\n"
     ]
    }
   ],
   "source": [
    "lista1 = [47,2,3,]\n",
    "lista2 = [1,3,5,6,47]\n",
    "\n",
    "for i in lista1:\n",
    "    for j in lista2:\n",
    "        if i == 47 and j == 47:\n",
    "            print(\"sim\")"
   ]
  },
  {
   "cell_type": "code",
   "execution_count": 25,
   "id": "6f25d52a",
   "metadata": {},
   "outputs": [
    {
     "name": "stdout",
     "output_type": "stream",
     "text": [
      "12\n"
     ]
    }
   ],
   "source": [
    "lista1 = [47,2,3,]\n",
    "lista2 = [1,3,5,6,47]\n",
    "soma = 0\n",
    "\n",
    "for num in [lista1, lista2]:\n",
    "    for num in lista2:\n",
    "        if num % 2 == 0 and num % 2 == 0:\n",
    "            soma += num\n",
    "print(soma)"
   ]
  },
  {
   "cell_type": "code",
   "execution_count": 28,
   "id": "f9dfd7d8",
   "metadata": {},
   "outputs": [
    {
     "name": "stdout",
     "output_type": "stream",
     "text": [
      "2\n"
     ]
    }
   ],
   "source": [
    "lista1 = [47,2,3,]\n",
    "lista2 = [1,3,5,6,47]\n",
    "cont = 0\n",
    "\n",
    "for i in lista1 + lista2:\n",
    "        if i == 47:\n",
    "            cont += 1;\n",
    "print(cont)"
   ]
  }
 ],
 "metadata": {
  "kernelspec": {
   "display_name": "Python 3 (ipykernel)",
   "language": "python",
   "name": "python3"
  },
  "language_info": {
   "codemirror_mode": {
    "name": "ipython",
    "version": 3
   },
   "file_extension": ".py",
   "mimetype": "text/x-python",
   "name": "python",
   "nbconvert_exporter": "python",
   "pygments_lexer": "ipython3",
   "version": "3.9.13"
  }
 },
 "nbformat": 4,
 "nbformat_minor": 5
}
