{
 "cells": [
  {
   "cell_type": "markdown",
   "id": "170ef85d",
   "metadata": {},
   "source": [
    "# loop for"
   ]
  },
  {
   "cell_type": "code",
   "execution_count": 1,
   "id": "f0974a19",
   "metadata": {},
   "outputs": [
    {
     "name": "stdout",
     "output_type": "stream",
     "text": [
      "1\n",
      "2\n",
      "3\n"
     ]
    }
   ],
   "source": [
    "tp = (1,2,3)\n",
    "for i in tp:\n",
    "    print(i)"
   ]
  },
  {
   "cell_type": "code",
   "execution_count": 2,
   "id": "f27c1733",
   "metadata": {},
   "outputs": [
    {
     "name": "stdout",
     "output_type": "stream",
     "text": [
      "['data', 'science', 'academy']\n",
      "['data', 'science', 'academy']\n",
      "['data', 'science', 'academy']\n"
     ]
    }
   ],
   "source": [
    "string = [\"data\", \"science\", \"academy\"]\n",
    "for i in string:\n",
    "    print(string)"
   ]
  },
  {
   "cell_type": "code",
   "execution_count": 4,
   "id": "2aa3efa0",
   "metadata": {},
   "outputs": [
    {
     "name": "stdout",
     "output_type": "stream",
     "text": [
      "0\n",
      "1\n",
      "2\n",
      "3\n",
      "4\n",
      "5\n",
      "6\n",
      "7\n",
      "8\n",
      "9\n",
      "10\n"
     ]
    }
   ],
   "source": [
    "for contador in range(0,11):\n",
    "    print(contador)"
   ]
  },
  {
   "cell_type": "code",
   "execution_count": 5,
   "id": "07db1e20",
   "metadata": {},
   "outputs": [
    {
     "name": "stdout",
     "output_type": "stream",
     "text": [
      "2\n",
      "4\n",
      "6\n",
      "8\n",
      "10\n"
     ]
    }
   ],
   "source": [
    "lista = [1,2,3,4,5,6,7,8,9,10]\n",
    "\n",
    "for i in lista:\n",
    "    if i % 2 == 0:\n",
    "        print(i)"
   ]
  },
  {
   "cell_type": "markdown",
   "id": "ab02c791",
   "metadata": {},
   "source": [
    "### for aninhado"
   ]
  },
  {
   "cell_type": "code",
   "execution_count": 22,
   "id": "2b837d0e",
   "metadata": {},
   "outputs": [
    {
     "name": "stdout",
     "output_type": "stream",
     "text": [
      "\n",
      " 1\n",
      "\n",
      " 3\n",
      "\n",
      " 5\n",
      "\n",
      " 6\n",
      "----\n",
      "\n",
      " 2\n",
      "\n",
      " 6\n",
      "\n",
      " 10\n",
      "\n",
      " 12\n",
      "----\n",
      "\n",
      " 3\n",
      "\n",
      " 9\n",
      "\n",
      " 15\n",
      "\n",
      " 18\n",
      "----\n",
      "\n",
      " 4\n",
      "\n",
      " 12\n",
      "\n",
      " 20\n",
      "\n",
      " 24\n",
      "----\n"
     ]
    }
   ],
   "source": [
    "lista1 = [1,2,3,4]\n",
    "lista2 = [1,3,5,6]\n",
    "\n",
    "for i in lista1:\n",
    "    for j in lista2:\n",
    "        print(\"\\n\", i * j)\n",
    "    print(\"----\")"
   ]
  },
  {
   "cell_type": "code",
   "execution_count": 14,
   "id": "b622dde3",
   "metadata": {},
   "outputs": [
    {
     "name": "stdout",
     "output_type": "stream",
     "text": [
      "1\n",
      "3\n"
     ]
    }
   ],
   "source": [
    "lista1 = [1,2,3,4]\n",
    "lista2 = [1,3,5,6]\n",
    "\n",
    "for i in lista1:\n",
    "    for j in lista2:\n",
    "        if i == j:\n",
    "            print(i)"
   ]
  },
  {
   "cell_type": "code",
   "execution_count": 21,
   "id": "fc414d78",
   "metadata": {},
   "outputs": [
    {
     "name": "stdout",
     "output_type": "stream",
     "text": [
      "sim\n"
     ]
    }
   ],
   "source": [
    "lista1 = [47,2,3,]\n",
    "lista2 = [1,3,5,6,47]\n",
    "\n",
    "for i in lista1:\n",
    "    for j in lista2:\n",
    "        if i == 47 and j == 47:\n",
    "            print(\"sim\")"
   ]
  },
  {
   "cell_type": "code",
   "execution_count": 25,
   "id": "5c0ebcf3",
   "metadata": {},
   "outputs": [
    {
     "name": "stdout",
     "output_type": "stream",
     "text": [
      "12\n"
     ]
    }
   ],
   "source": [
    "lista1 = [47,2,3,]\n",
    "lista2 = [1,3,5,6,47]\n",
    "soma = 0\n",
    "\n",
    "for num in [lista1, lista2]:\n",
    "    for num in lista2:\n",
    "        if num % 2 == 0 and num % 2 == 0:\n",
    "            soma += num\n",
    "print(soma)"
   ]
  },
  {
   "cell_type": "code",
   "execution_count": 28,
   "id": "773b6579",
   "metadata": {},
   "outputs": [
    {
     "name": "stdout",
     "output_type": "stream",
     "text": [
      "2\n"
     ]
    }
   ],
   "source": [
    "lista1 = [47,2,3,]\n",
    "lista2 = [1,3,5,6,47]\n",
    "cont = 0\n",
    "\n",
    "for i in lista1 + lista2:\n",
    "        if i == 47:\n",
    "            cont += 1;\n",
    "print(cont)"
   ]
  },
  {
   "cell_type": "markdown",
   "id": "901e7660",
   "metadata": {},
   "source": [
    "# loop while"
   ]
  },
  {
   "cell_type": "code",
   "execution_count": 30,
   "id": "d25a5723",
   "metadata": {},
   "outputs": [
    {
     "name": "stdout",
     "output_type": "stream",
     "text": [
      "0\n",
      "1\n",
      "2\n",
      "3\n",
      "4\n",
      "5\n",
      "6\n",
      "7\n",
      "8\n",
      "9\n",
      "10\n"
     ]
    }
   ],
   "source": [
    "valor = 0\n",
    "\n",
    "while valor <= 10:\n",
    "    print(valor)\n",
    "    valor += 1\n",
    "    "
   ]
  },
  {
   "cell_type": "code",
   "execution_count": 36,
   "id": "bbd90415",
   "metadata": {},
   "outputs": [
    {
     "name": "stdout",
     "output_type": "stream",
     "text": [
      "O valor de x é:  0\n",
      "O valor de x é:  1\n",
      "O valor de x é:  2\n",
      "O valor de x é:  3\n",
      "O valor de x é:  4\n",
      "O valor de x é:  5\n",
      "O valor de x é:  6\n",
      "O valor de x é:  7\n",
      "O valor de x é:  8\n",
      "O valor de x é:  9\n",
      "O valor de x é:  10\n",
      "Concluído\n"
     ]
    }
   ],
   "source": [
    "valor = 0\n",
    "while valor <= 10:\n",
    "    print(\"O valor de x é: \", + valor)\n",
    "    valor += 1\n",
    "print(\"Concluído\")"
   ]
  },
  {
   "cell_type": "code",
   "execution_count": 39,
   "id": "4e48cc41",
   "metadata": {},
   "outputs": [
    {
     "name": "stdout",
     "output_type": "stream",
     "text": [
      "0\n",
      "1\n",
      "2\n",
      "3\n",
      "4\n",
      "5\n",
      "6\n",
      "concluido\n"
     ]
    }
   ],
   "source": [
    "valor = 0\n",
    "\n",
    "while valor < 10:\n",
    "    if valor == 7:\n",
    "        print(\"concluido\")\n",
    "        break\n",
    "    else:\n",
    "        pass\n",
    "    print(valor)\n",
    "    valor += 1;"
   ]
  },
  {
   "cell_type": "code",
   "execution_count": 41,
   "id": "12383278",
   "metadata": {},
   "outputs": [
    {
     "name": "stdout",
     "output_type": "stream",
     "text": [
      "p\n",
      "y\n",
      "t\n",
      "h\n",
      "o\n",
      "n\n",
      " \n",
      "é\n",
      " \n",
      " \n",
      "i\n",
      "n\n",
      "c\n",
      "r\n",
      "i\n",
      "v\n",
      "e\n",
      "l\n"
     ]
    }
   ],
   "source": [
    "for letra in \"python é zzz incrivel\":\n",
    "    if letra == \"z\":\n",
    "        continue\n",
    "    print(letra)"
   ]
  },
  {
   "cell_type": "markdown",
   "id": "397c57d2",
   "metadata": {},
   "source": [
    "### while + for"
   ]
  },
  {
   "cell_type": "code",
   "execution_count": 47,
   "id": "ed95521e",
   "metadata": {},
   "outputs": [
    {
     "name": "stdout",
     "output_type": "stream",
     "text": [
      "[2, 3, 5, 7, 11, 13, 17, 19, 23, 29]\n",
      "CPU times: user 98 µs, sys: 10 µs, total: 108 µs\n",
      "Wall time: 97.3 µs\n"
     ]
    }
   ],
   "source": [
    "%%time\n",
    "\n",
    "lista = []\n",
    "for elemento in range(2, 31):\n",
    "    ehprimo = True\n",
    "    i = 2\n",
    "    while i <= elemento // 2:\n",
    "        if elemento % i == 0:\n",
    "            ehprimo = False\n",
    "            break\n",
    "        i += 1\n",
    "    if ehprimo:\n",
    "        lista.append(elemento)\n",
    "print(lista)\n",
    "    "
   ]
  }
 ],
 "metadata": {
  "kernelspec": {
   "display_name": "Python 3 (ipykernel)",
   "language": "python",
   "name": "python3"
  },
  "language_info": {
   "codemirror_mode": {
    "name": "ipython",
    "version": 3
   },
   "file_extension": ".py",
   "mimetype": "text/x-python",
   "name": "python",
   "nbconvert_exporter": "python",
   "pygments_lexer": "ipython3",
   "version": "3.9.13"
  }
 },
 "nbformat": 4,
 "nbformat_minor": 5
}
